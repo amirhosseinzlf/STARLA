{
  "cells": [
    {
      "cell_type": "markdown",
      "metadata": {
        "id": "Ywj9YVpL0kIX"
      },
      "source": [
        "#Initiate"
      ]
    },
    {
      "cell_type": "markdown",
      "metadata": {
        "id": "Hcy_gxf10kIc"
      },
      "source": [
        "##Requirements "
      ]
    },
    {
      "cell_type": "code",
      "execution_count": 1,
      "metadata": {
        "colab": {
          "base_uri": "https://localhost:8080/"
        },
        "outputId": "d82c0724-ff81-45f4-ee98-fb44478ceabd",
        "id": "igjCEFym0kIc"
      },
      "outputs": [
        {
          "output_type": "stream",
          "name": "stdout",
          "text": [
            "Collecting stable-baselines==2.10.2\n",
            "  Downloading stable_baselines-2.10.2-py3-none-any.whl (240 kB)\n",
            "\u001b[K     |████████████████████████████████| 240 kB 3.8 MB/s \n",
            "\u001b[?25hRequirement already satisfied: joblib in /usr/local/lib/python3.7/dist-packages (from stable-baselines==2.10.2) (1.1.0)\n",
            "Requirement already satisfied: gym[atari,classic_control]>=0.11 in /usr/local/lib/python3.7/dist-packages (from stable-baselines==2.10.2) (0.17.3)\n",
            "Requirement already satisfied: opencv-python in /usr/local/lib/python3.7/dist-packages (from stable-baselines==2.10.2) (4.1.2.30)\n",
            "Requirement already satisfied: pandas in /usr/local/lib/python3.7/dist-packages (from stable-baselines==2.10.2) (1.3.5)\n",
            "Requirement already satisfied: cloudpickle>=0.5.5 in /usr/local/lib/python3.7/dist-packages (from stable-baselines==2.10.2) (1.3.0)\n",
            "Requirement already satisfied: matplotlib in /usr/local/lib/python3.7/dist-packages (from stable-baselines==2.10.2) (3.2.2)\n",
            "Requirement already satisfied: scipy in /usr/local/lib/python3.7/dist-packages (from stable-baselines==2.10.2) (1.4.1)\n",
            "Requirement already satisfied: numpy in /usr/local/lib/python3.7/dist-packages (from stable-baselines==2.10.2) (1.21.6)\n",
            "Requirement already satisfied: pyglet<=1.5.0,>=1.4.0 in /usr/local/lib/python3.7/dist-packages (from gym[atari,classic_control]>=0.11->stable-baselines==2.10.2) (1.5.0)\n",
            "Requirement already satisfied: Pillow in /usr/local/lib/python3.7/dist-packages (from gym[atari,classic_control]>=0.11->stable-baselines==2.10.2) (7.1.2)\n",
            "Requirement already satisfied: atari-py~=0.2.0 in /usr/local/lib/python3.7/dist-packages (from gym[atari,classic_control]>=0.11->stable-baselines==2.10.2) (0.2.9)\n",
            "Requirement already satisfied: six in /usr/local/lib/python3.7/dist-packages (from atari-py~=0.2.0->gym[atari,classic_control]>=0.11->stable-baselines==2.10.2) (1.15.0)\n",
            "Requirement already satisfied: future in /usr/local/lib/python3.7/dist-packages (from pyglet<=1.5.0,>=1.4.0->gym[atari,classic_control]>=0.11->stable-baselines==2.10.2) (0.16.0)\n",
            "Requirement already satisfied: cycler>=0.10 in /usr/local/lib/python3.7/dist-packages (from matplotlib->stable-baselines==2.10.2) (0.11.0)\n",
            "Requirement already satisfied: pyparsing!=2.0.4,!=2.1.2,!=2.1.6,>=2.0.1 in /usr/local/lib/python3.7/dist-packages (from matplotlib->stable-baselines==2.10.2) (3.0.8)\n",
            "Requirement already satisfied: python-dateutil>=2.1 in /usr/local/lib/python3.7/dist-packages (from matplotlib->stable-baselines==2.10.2) (2.8.2)\n",
            "Requirement already satisfied: kiwisolver>=1.0.1 in /usr/local/lib/python3.7/dist-packages (from matplotlib->stable-baselines==2.10.2) (1.4.2)\n",
            "Requirement already satisfied: typing-extensions in /usr/local/lib/python3.7/dist-packages (from kiwisolver>=1.0.1->matplotlib->stable-baselines==2.10.2) (4.2.0)\n",
            "Requirement already satisfied: pytz>=2017.3 in /usr/local/lib/python3.7/dist-packages (from pandas->stable-baselines==2.10.2) (2022.1)\n",
            "Installing collected packages: stable-baselines\n",
            "Successfully installed stable-baselines-2.10.2\n",
            "Collecting pymoo==0.4.2.2\n",
            "  Downloading pymoo-0.4.2.2.tar.gz (3.7 MB)\n",
            "\u001b[K     |████████████████████████████████| 3.7 MB 4.4 MB/s \n",
            "\u001b[?25hRequirement already satisfied: numpy>=1.15 in /usr/local/lib/python3.7/dist-packages (from pymoo==0.4.2.2) (1.21.6)\n",
            "Requirement already satisfied: scipy>=1.1 in /usr/local/lib/python3.7/dist-packages (from pymoo==0.4.2.2) (1.4.1)\n",
            "Requirement already satisfied: matplotlib>=3 in /usr/local/lib/python3.7/dist-packages (from pymoo==0.4.2.2) (3.2.2)\n",
            "Requirement already satisfied: autograd>=1.3 in /usr/local/lib/python3.7/dist-packages (from pymoo==0.4.2.2) (1.4)\n",
            "Collecting cma==2.7\n",
            "  Downloading cma-2.7.0-py2.py3-none-any.whl (239 kB)\n",
            "\u001b[K     |████████████████████████████████| 239 kB 45.5 MB/s \n",
            "\u001b[?25hRequirement already satisfied: future>=0.15.2 in /usr/local/lib/python3.7/dist-packages (from autograd>=1.3->pymoo==0.4.2.2) (0.16.0)\n",
            "Requirement already satisfied: kiwisolver>=1.0.1 in /usr/local/lib/python3.7/dist-packages (from matplotlib>=3->pymoo==0.4.2.2) (1.4.2)\n",
            "Requirement already satisfied: python-dateutil>=2.1 in /usr/local/lib/python3.7/dist-packages (from matplotlib>=3->pymoo==0.4.2.2) (2.8.2)\n",
            "Requirement already satisfied: cycler>=0.10 in /usr/local/lib/python3.7/dist-packages (from matplotlib>=3->pymoo==0.4.2.2) (0.11.0)\n",
            "Requirement already satisfied: pyparsing!=2.0.4,!=2.1.2,!=2.1.6,>=2.0.1 in /usr/local/lib/python3.7/dist-packages (from matplotlib>=3->pymoo==0.4.2.2) (3.0.8)\n",
            "Requirement already satisfied: typing-extensions in /usr/local/lib/python3.7/dist-packages (from kiwisolver>=1.0.1->matplotlib>=3->pymoo==0.4.2.2) (4.2.0)\n",
            "Requirement already satisfied: six>=1.5 in /usr/local/lib/python3.7/dist-packages (from python-dateutil>=2.1->matplotlib>=3->pymoo==0.4.2.2) (1.15.0)\n",
            "Building wheels for collected packages: pymoo\n",
            "  Building wheel for pymoo (setup.py) ... \u001b[?25l\u001b[?25hdone\n",
            "  Created wheel for pymoo: filename=pymoo-0.4.2.2-cp37-cp37m-linux_x86_64.whl size=4940018 sha256=18f1f4bae63382de9a4757a88079fd441fc17eb4c1a23caa5ea79e59e7b0d2cf\n",
            "  Stored in directory: /root/.cache/pip/wheels/ab/8c/89/c450ad360fc24cb70fec0388e8d95b51021eae5dab248ab76e\n",
            "Successfully built pymoo\n",
            "Installing collected packages: cma, pymoo\n",
            "Successfully installed cma-2.7.0 pymoo-0.4.2.2\n",
            "TensorFlow 1.x selected.\n",
            "WARNING:tensorflow:\n",
            "The TensorFlow contrib module will not be included in TensorFlow 2.0.\n",
            "For more information, please see:\n",
            "  * https://github.com/tensorflow/community/blob/master/rfcs/20180907-contrib-sunset.md\n",
            "  * https://github.com/tensorflow/addons\n",
            "  * https://github.com/tensorflow/io (for I/O related ops)\n",
            "If you depend on functionality not listed there, please file an issue.\n",
            "\n"
          ]
        }
      ],
      "source": [
        "!pip install stable-baselines==2.10.2\n",
        "!pip install pymoo==0.4.2.2\n",
        "\n",
        "%tensorflow_version 1.x\n",
        "\n",
        "import gym\n",
        "import numpy as np\n",
        "from stable_baselines import DQN\n",
        "from copy import deepcopy\n",
        "import math\n",
        "from gym.spaces import Discrete, Dict, Box\n",
        "from gym import spaces\n",
        "from random import seed\n",
        "import random \n",
        "from gym import Env\n",
        "from datetime import datetime\n",
        "import sys\n",
        "import time\n",
        "import pickle\n",
        "import stable_baselines\n",
        "import sklearn\n",
        "import numpy\n",
        "from sklearn import tree , svm \n",
        "import pandas as pd\n",
        "from sklearn.model_selection import train_test_split\n",
        "from sklearn.naive_bayes import GaussianNB , CategoricalNB\n",
        "from sklearn.neighbors import KNeighborsClassifier\n",
        "from sklearn import preprocessing\n",
        "from sklearn.metrics import confusion_matrix\n",
        "from sklearn.metrics import plot_confusion_matrix\n",
        "import matplotlib.pyplot as plt\n",
        "from sklearn import metrics\n",
        "from sklearn.metrics import accuracy_score\n",
        "from itertools import product\n",
        "from sklearn.utils import resample\n",
        "from sklearn.model_selection import KFold , RepeatedKFold\n",
        "from sklearn.metrics import f1_score\n",
        "from sklearn import impute\n",
        "import statistics\n",
        "from scipy import stats\n",
        "from copy import deepcopy\n",
        "from sklearn.ensemble import ExtraTreesClassifier\n",
        "from sklearn.metrics import classification_report\n",
        "from sklearn.ensemble import RandomForestClassifier\n",
        "from math import ceil\n",
        "import copy\n",
        "import sys\n",
        "from sklearn.metrics import jaccard_score\n",
        "import time\n",
        "import multiprocessing\n",
        "from pymoo.algorithms.nsga2 import calc_crowding_distance\n",
        "sys.path.append('lib/')\n",
        "import subprocess\n",
        "import logging\n",
        "from sklearn.utils import shuffle\n",
        "import csv\n",
        "from csv import reader\n",
        "import os\n",
        "import statistics"
      ]
    },
    {
      "cell_type": "code",
      "execution_count": 2,
      "metadata": {
        "colab": {
          "base_uri": "https://localhost:8080/"
        },
        "outputId": "8df595bc-44f9-4fe8-80e5-b548686c5537",
        "id": "KJ-pVlgw0kId"
      },
      "outputs": [
        {
          "output_type": "stream",
          "name": "stdout",
          "text": [
            "Collecting ipython-autotime\n",
            "  Downloading ipython_autotime-0.3.1-py2.py3-none-any.whl (6.8 kB)\n",
            "Requirement already satisfied: ipython in /usr/local/lib/python3.7/dist-packages (from ipython-autotime) (5.5.0)\n",
            "Requirement already satisfied: simplegeneric>0.8 in /usr/local/lib/python3.7/dist-packages (from ipython->ipython-autotime) (0.8.1)\n",
            "Requirement already satisfied: pexpect in /usr/local/lib/python3.7/dist-packages (from ipython->ipython-autotime) (4.8.0)\n",
            "Requirement already satisfied: pygments in /usr/local/lib/python3.7/dist-packages (from ipython->ipython-autotime) (2.6.1)\n",
            "Requirement already satisfied: traitlets>=4.2 in /usr/local/lib/python3.7/dist-packages (from ipython->ipython-autotime) (5.1.1)\n",
            "Requirement already satisfied: setuptools>=18.5 in /usr/local/lib/python3.7/dist-packages (from ipython->ipython-autotime) (57.4.0)\n",
            "Requirement already satisfied: pickleshare in /usr/local/lib/python3.7/dist-packages (from ipython->ipython-autotime) (0.7.5)\n",
            "Requirement already satisfied: decorator in /usr/local/lib/python3.7/dist-packages (from ipython->ipython-autotime) (4.4.2)\n",
            "Requirement already satisfied: prompt-toolkit<2.0.0,>=1.0.4 in /usr/local/lib/python3.7/dist-packages (from ipython->ipython-autotime) (1.0.18)\n",
            "Requirement already satisfied: wcwidth in /usr/local/lib/python3.7/dist-packages (from prompt-toolkit<2.0.0,>=1.0.4->ipython->ipython-autotime) (0.2.5)\n",
            "Requirement already satisfied: six>=1.9.0 in /usr/local/lib/python3.7/dist-packages (from prompt-toolkit<2.0.0,>=1.0.4->ipython->ipython-autotime) (1.15.0)\n",
            "Requirement already satisfied: ptyprocess>=0.5 in /usr/local/lib/python3.7/dist-packages (from pexpect->ipython->ipython-autotime) (0.7.0)\n",
            "Installing collected packages: ipython-autotime\n",
            "Successfully installed ipython-autotime-0.3.1\n",
            "time: 159 µs (started: 2022-05-13 16:24:11 +00:00)\n"
          ]
        }
      ],
      "source": [
        "!pip install ipython-autotime\n",
        "\n",
        "%load_ext autotime"
      ]
    },
    {
      "cell_type": "markdown",
      "metadata": {
        "id": "4E5AdzK80kId"
      },
      "source": [
        "##RL"
      ]
    },
    {
      "cell_type": "code",
      "execution_count": 3,
      "metadata": {
        "colab": {
          "base_uri": "https://localhost:8080/"
        },
        "outputId": "54ce61c3-cc39-4119-b64a-b43571d558e5",
        "id": "nWT8bkwN0kId"
      },
      "outputs": [
        {
          "output_type": "stream",
          "name": "stdout",
          "text": [
            "time: 1 s (started: 2022-05-13 16:24:11 +00:00)\n"
          ]
        }
      ],
      "source": [
        "class StoreWrapper(gym.Wrapper):\n",
        "  ''''\n",
        "  :param env: (gym.Env) Gym environment that will be wrapped\n",
        "  :param max_steps: (int) Max number of steps per episode\n",
        "  '''\n",
        "  def __init__(self, env):\n",
        "    # Call the parent constructor, so we can access self.env later\n",
        "    super(StoreWrapper, self).__init__(env)\n",
        "    self.max_steps = 200\n",
        "    # Counter of steps per episode\n",
        "    self.current_step = 0\n",
        "    self.mem = []\n",
        "    self.TotalReward = 0.0 \n",
        "    self.env = env\n",
        "    self.first_state = 0\n",
        "    self.first_obs = 0\n",
        "    self.prev_obs = 0 \n",
        "    self.states_list = []\n",
        "  \n",
        "  def reset(self):\n",
        "    \"\"\"\n",
        "    Reset the environment \n",
        "    \"\"\"\n",
        "    # Reset the counter\n",
        "    self.current_step = 0\n",
        "    obs =self.env.reset()\n",
        "    self.TotalReward = 0.0\n",
        "    self.first_obs = obs\n",
        "    return obs\n",
        "\n",
        "  def step(self, action):\n",
        "    \"\"\"\n",
        "    In this function we store the initial state as well as the memory of the agent\n",
        "    :param action: ([float] or int) Action taken by the agent\n",
        "    :return: (np.ndarray, float, bool, dict) observation, reward, is the episode over?, additional informations\n",
        "    \"\"\"\n",
        "    if self.current_step == 0: #store initial state\n",
        "      self.prev_obs = self.first_obs\n",
        "      self.first_state = deepcopy(self.env)\n",
        "      self.states_list.append(self.first_state)\n",
        "    self.current_step += 1\n",
        "    obs, reward, done, info = self.env.step(action)\n",
        "    self.TotalReward += reward\n",
        "    self.mem.append(tuple((self.prev_obs,action)))\n",
        "    self.prev_obs = obs\n",
        "    if self.current_step >= self.max_steps:\n",
        "      done = True\n",
        "      # Update the info dict to signal that the limit was exceeded\n",
        "    if done:\n",
        "      self.mem.append(tuple(('done',self.TotalReward)))\n",
        "    info['mem'] = self.mem\n",
        "    info['state'] = self.states_list\n",
        "    # self.mem.append(tuple(obs,action))\n",
        "    return obs, reward, done, info\n",
        "\n",
        "  def set_state(self, state):\n",
        "    \"\"\"\n",
        "    :param state: initial state of the episode\n",
        "    :return: environment is updated and observations is returned\n",
        "    \"\"\"\n",
        "    self.env = deepcopy(state)\n",
        "    obs = np.array(list(self.env.unwrapped.state))\n",
        "    self.current_step = 0\n",
        "    self.TotalReward = 0.0\n",
        "    self.first_obs = obs\n",
        "    return obs\n",
        "\n",
        "def proportional_sampling_whitout_replacement(index , size):\n",
        "  s=0\n",
        "  s = sum(np.array(index))\n",
        "  p = [ind/s for ind in index]\n",
        "  samples = np.random.choice(index,size=size,replace=False,p=p)\n",
        "  return samples\n",
        "\n",
        "def population_sample(episodes , ind,  pop_size , random_test_size, threshold, functional_fault_size, reward_fault_size):\n",
        "  \"\"\"\n",
        "  This function is meant to sample episodes from training after that you need to add test episodes using random_test \n",
        "  Set the parameters as you want but be careful the input episodes for this function is the memory of the agent and each step has seperate index \n",
        "  this function returs the final steps of the selected function then you need to extract that episodes from the input memore that is called 'episodes'\n",
        "  use the episodes extract function ... \n",
        "\n",
        "  samples n episodes from training n1 functinal faults and n2 reward faults \n",
        "  reward faults are episodes with reward bellow the thresthreshold \n",
        "  from random test samples M episodes m1 random episode and\n",
        "  m2 episodes with sudden reward change we dont have a sudden reward change in this example  \n",
        "  \"\"\"\n",
        "  epsilon = 0.05\n",
        "  index = []\n",
        "  functional_fault = []\n",
        "  reward_fault = []\n",
        "  start_states =[]\n",
        "  ind  = np.where(np.array(episodes)==('done',))\n",
        "  index= ind[0]\n",
        "  print(len(ind[0]),'episodes from training')\n",
        "  population=[]\n",
        "  for i in index:\n",
        "    _,r = episodes[i]\n",
        "    if abs(episodes[i-1][0][0])>(2.4-epsilon):\n",
        "      functional_fault.append(i)\n",
        "      print('function fault') \n",
        "    if r<threshold:\n",
        "      reward_fault.append(i)\n",
        "      print('reward fault')\n",
        "  if len(functional_fault)<functional_fault_size:\n",
        "    print('functional faults size is' ,len(functional_fault),' and its less than desired number' )\n",
        "    population += functional_fault\n",
        "    print('sampling more random episodes instead ...!')\n",
        "  if len(functional_fault)==functional_fault_size:\n",
        "    population += functional_fault\n",
        "  if len(functional_fault)>functional_fault_size:\n",
        "    # proportianl_sample_whitout_replacement()\n",
        "    sam1=proportional_sampling_whitout_replacement(functional_fault,functional_fault_size)\n",
        "    population += sam1\n",
        "  if len(reward_fault)<reward_fault_size:\n",
        "    print('reward faults size is' ,len(reward_fault),' and its less than desired number' )\n",
        "    population += reward_fault\n",
        "    print('sampling more random episodes instead ...!')\n",
        "  if len(reward_fault)==reward_fault_size:\n",
        "    population += reward_fault\n",
        "  if len(reward_fault)>reward_fault_size:\n",
        "    #proportional sampling\n",
        "    sam2 = proportional_sampling_whitout_replacement(reward_fault,reward_fault_size)\n",
        "    population += list(sam2)\n",
        "  r_size= pop_size-len(population)\n",
        "  # random_test(model,env,r_size)\n",
        "  print(len(reward_fault))\n",
        "  # population += reward_fault\n",
        "  return population , r_size\n",
        "\n",
        "\n",
        "def episode_extract(sampled_index, episodes):\n",
        "  epis = []\n",
        "  for i in sampled_index:\n",
        "    l=int(episodes[i][1])\n",
        "    slice1 = episodes[(i-l):(i+1)]\n",
        "    epis+=slice1\n",
        "  return epis\n",
        "\n",
        "\n",
        "def fitness_reward(episode):\n",
        "  \"\"\"\n",
        "  here the reward could be calculated as the lengh of the episode; Since the\n",
        "  reward of the cartpole is defined based on the number of steps without falling\n",
        "  last part of the episode contains the signal of ('done',reward)\n",
        "  \"\"\"\n",
        "  return len(episode)-1\n",
        "\n",
        "def fitness_confidence(episode, model, mode):\n",
        "  \"\"\"\n",
        "  confidence level is define as differences between the highest and\n",
        "  second highest action probabilities of selecting actions OR\n",
        "  the ratio between the highest and lowest/second highest action probability\n",
        "  :param `mode`: r for ration and m for differences \n",
        "  :param `model`: is the RL agent \n",
        "  :param `episode`: is the episode values or sequence from the rl \n",
        "  \"\"\"\n",
        "  cl = 0.0\n",
        "  for i in range(len(episode)):\n",
        "    if i==(len(episode)-1):\n",
        "        if episode[i][0]=='done':\n",
        "            return (cl/episode[i][1])\n",
        "        else:\n",
        "            assert False, \"last state is not done , reward\"\n",
        "    else:\n",
        "      prob=model.action_probability(episode[i][0])\n",
        "      high1=prob.argmax()\n",
        "      first = prob[high1]\n",
        "      temp = prob\n",
        "      temp[high1] = 0.0\n",
        "      high2= temp.argmax()\n",
        "      second = prob[high2]\n",
        "      if mode == 'r':\n",
        "        cl +=  (first/second)\n",
        "        #In the next version this will be updated to a normalized ratio to avoid having large values \n",
        "      if mode == 'm':\n",
        "        cl += (first - second) #To_Do: first - second / first +second this one is better \n",
        "  print(\"WARNING nothing returned\", episode )\n",
        "\n",
        "\n",
        "def fitness_reward_probability(ml, binary_episode):\n",
        "  \"\"\"\n",
        "  This function returns the third fitness funciton that is ment to guide the search toward\n",
        "  the episodes with a higher probability of a reward fault and as we have a minimizing \n",
        "  optimization funciton in MOSA we neeed to change this functionwe can either go with the\n",
        "  negation of the probability of the reward fault = 1-probability of the reward fault\n",
        "  that is equal to the probability of the bein a non-faulty episode\n",
        "  :param `ml`: RF_FF_1rep for functional fault\n",
        "  :param `binary episode`: episodes decodeed as having abstract states\n",
        "  \"\"\"\n",
        "  # return -(ml.predict_proba(episode)[0][1])\n",
        "  return ml.predict_proba(binary_episode)[0][0]\n",
        "\n",
        "def fitness_functional_probability(ml, binary_episode):\n",
        "  return ml.predict_proba(binary_episode)[0][0]\n",
        "\n",
        "\n",
        "def state_abstraction(model,state1,state2,d):\n",
        "  \"\"\"\n",
        "  This function compares to state, if they were in the same abstract class\n",
        "  function returs 'True' otherwise 'False'\n",
        "  \"\"\"\n",
        "  q_value1 = model.step_model.step([state1])\n",
        "  q_value2 = model.step_model.step([state2])\n",
        "  for i in range(len(q_value1[1][0])):\n",
        "    print(q_value1[1][0][i])\n",
        "    print(q_value2[1][0][i])\n",
        "    if ceil(q_value1[1][0][i]/d) == ceil(q_value2[1][0][i]/d):\n",
        "     continue\n",
        "    else:\n",
        "      return False\n",
        "  return True\n",
        "\n",
        "\n",
        "def abstract_state(model,state1,d):\n",
        "  if type(state1) == str:\n",
        "    if state1 == 'done':\n",
        "      return 'end'\n",
        "  q_value1 = model.step_model.step([state1])\n",
        "  return( ceil(q_value1[1][0][0]/d), ceil(q_value1[1][0][1]/d))\n",
        "\n",
        "\n",
        "#report function to check the performance metrics of the model\n",
        "def report(model2,x_train, y_train,x_test, y_test):\n",
        "  print(\"********************** reporting the result of the model **************************\")\n",
        "  print('The score for train data is {0}'.format(model2.score(x_train,y_train)))\n",
        "  print('The score for test data is {0}'.format(model2.score(x_test,y_test)))\n",
        "\n",
        "\n",
        "  predictions_train = model2.predict(x_train)\n",
        "  predictions_test = model2.predict(x_test)\n",
        "\n",
        "  print(\"\\n\\n--------------------------------------recall---------------------------------\")\n",
        "\n",
        "  print('the test recall for the class yes is {0}'.format(metrics.recall_score(y_test,predictions_test, pos_label=1)))\n",
        "  print('the test recall for the class no is {0}'.format(metrics.recall_score(y_test,predictions_test, pos_label=0)))\n",
        "\n",
        "  print('the training recall for the class yes is {0}'.format(metrics.recall_score(y_train,predictions_train, pos_label=1)))\n",
        "  print('the training recall for the class no is {0}'.format(metrics.recall_score(y_train,predictions_train, pos_label=0)))\n",
        "\n",
        "\n",
        "  print(\"\\n\\n--------------------------------------precision------------------------------\")\n",
        "\n",
        "\n",
        "  print('the test precision for the class yes is {0}'.format(metrics.precision_score(y_test,predictions_test, pos_label=1)))\n",
        "  print('the test precision for the class no is {0}'.format(metrics.precision_score(y_test,predictions_test, pos_label=0)))\n",
        "\n",
        "  print('the training precision for the class yes is {0}'.format(metrics.precision_score(y_train,predictions_train, pos_label=1)))\n",
        "  print('the training precision for the class no is {0}'.format(metrics.precision_score(y_train,predictions_train, pos_label=0)))\n",
        "\n",
        "  print(\"\\n\\n\")\n",
        "  print(classification_report(y_test, predictions_test, target_names=['NO ','yes']))\n",
        "\n",
        "  tn, fp, fn, tp = confusion_matrix(y_test, predictions_test).ravel()\n",
        "  specificity = tn / (tn+fp)\n",
        "  print(\"\\n\\nspecifity :\",specificity)\n",
        "  print(\"\\n\\n--------------------------------------confusion----------------------------\")\n",
        "  CM = metrics.confusion_matrix(y_test, predictions_test)\n",
        "  print(\"The confusion Matrix:\")\n",
        "  print(CM)\n",
        "  print('the accuracy score in {0}\\n\\n'.format(accuracy_score(y_test, predictions_test)))\n",
        "  print(\"********************** plotting the confusion matrix & ROC curve **************************\")\n",
        "  plot_confusion_matrix(model2, x_test, y_test)\n",
        "  metrics.plot_roc_curve(model2, x_test, y_test) \n",
        "  plt.show()\n",
        "\n",
        "#dump\n",
        "\n",
        "def dump_p(what, name):\n",
        "  with open(f'/content/drive/MyDrive/Data/{name}.pickle', 'wb') as file:\n",
        "      pickle.dump(what, file)\n",
        "\n",
        "\n",
        "# write function for load\n",
        "\n",
        "def load_p(to_what, name):\n",
        "  with open(f'/content/drive/MyDrive/Data/{name}.pickle', 'rb') as file2:\n",
        "    to_what = pickle.load(file2)\n",
        "\n",
        "\n",
        "def random_test_1(model, env, Num):\n",
        "  obs=env.reset()\n",
        "  counter = 1\n",
        "  episode_reward = 0.0\n",
        "  for i in range(Num):\n",
        "    action, _ = model.predict(obs, deterministic=True)\n",
        "    obs, reward, done, info = env.step(action)\n",
        "    # env.render()\n",
        "    episode_reward += reward\n",
        "    if done:\n",
        "      counter += 1\n",
        "      end = i\n",
        "      print(\"Reward:\", episode_reward, \"final state\", info['mem'][-2][0])\n",
        "      episode_reward = 0.0\n",
        "      obs = env.reset()\n",
        "  iter = deepcopy(counter)\n",
        "  u=1\n",
        "  while iter>1:\n",
        "    if info['mem'][-u][0]=='done':\n",
        "      lastpoint = -u\n",
        "      iter -= 1\n",
        "    u+=1\n",
        "  fin =Num - end\n",
        "  start = -Num -counter\n",
        "  randomtest = info['mem'][lastpoint:-fin]\n",
        "  ran_state = info['state'][(-counter+1):-1]\n",
        "  return randomtest , ran_state\n",
        "\n",
        "\n",
        "def fix_training(training_episodes,training_states):\n",
        "  buffer =[] \n",
        "  episodes_set = []\n",
        "  j=0\n",
        "  for i in range(len(training_episodes)):\n",
        "    if training_episodes[i][0] == 'done':\n",
        "      if i == 0:\n",
        "        continue\n",
        "      buffer.append(training_episodes[i])\n",
        "      episodes_set.append(buffer)\n",
        "      buffer=[]\n",
        "    else:\n",
        "      buffer.append(training_episodes[i])\n",
        "  if len(episodes_set)!=len(training_states):\n",
        "    del training_states[-1]\n",
        "  if len(episodes_set)!=len(training_states):\n",
        "    # assert False, 'problem in starting states'\n",
        "    print('problem in starting states')\n",
        "  return episodes_set , training_states\n",
        "\n",
        "def fix_testing(testing_episodes,testing_states,Env2):\n",
        "  buffer =[] \n",
        "  episodes_set = []\n",
        "  j=0\n",
        "  for i in range(len(testing_episodes)):\n",
        "    if testing_episodes[i][0] == 'done':\n",
        "      if i == 0:\n",
        "        continue\n",
        "      buffer.append(testing_episodes[i])\n",
        "      episodes_set.append(buffer)\n",
        "      buffer=[]\n",
        "    else:\n",
        "      buffer.append(testing_episodes[i])\n",
        "  if not (episodes_set[0][0][0]==Env2.set_state(testing_states[0])).all():\n",
        "    del testing_states[0]\n",
        "  if not (episodes_set[0][0][0]==Env2.set_state(testing_states[0])).all():\n",
        "    assert False, 'problem in starting states'\n",
        "  if len(episodes_set)!=len(testing_states):\n",
        "    del testing_states[-1]\n",
        "  if len(episodes_set)!=len(testing_states):\n",
        "    assert False, 'problem in data prepration'\n",
        "  return episodes_set , testing_states\n"
      ]
    },
    {
      "cell_type": "markdown",
      "source": [
        "##ML"
      ],
      "metadata": {
        "id": "7gF0qCyWjznN"
      }
    },
    {
      "cell_type": "code",
      "source": [
        "def Abstract_classes(ep,abstraction_d,model):\n",
        "  d=abstraction_d\n",
        "  abs_states1=[]\n",
        "  for episode in ep:\n",
        "    for state,action in episode:\n",
        "      abs_st = abstract_state(model,state,d)\n",
        "      if abs_st == 'end':\n",
        "        continue\n",
        "      abs_states1.append(abs_st)\n",
        "  unique1=list(set(abs_states1))\n",
        "  uni1 = np.array(unique1)\n",
        "  a=len(abs_states1)\n",
        "  b=len(set(abs_states1))\n",
        "  print(\"abstract states:\",b)\n",
        "  print(\"Concrete states\",a)\n",
        "  print(\"ratio\",b/a)\n",
        "  return unique1,uni1\n",
        "\n",
        "\n",
        "def ML_first_representation(Abs_d,epsilon_functional_fault_boarder,uni1,model,ep,unique1):\n",
        "  d = Abs_d\n",
        "  # epsilon = 0.05\n",
        "  epsilon = epsilon_functional_fault_boarder\n",
        "  data1_x_b=[]\n",
        "  data1_y_b= [] \n",
        "  data1_y_f_b = []\n",
        "  functional_fault = False\n",
        "  reward_fault_threshold = 70\n",
        "  for episode in ep:\n",
        "    record = np.zeros(len(uni1))\n",
        "    for state, action in episode:\n",
        "      ab = abstract_state(model,state,d)\n",
        "      if ab == 'end':\n",
        "        # print(action)\n",
        "        if functional_fault:\n",
        "          data1_y_f_b.append(1)\n",
        "        else:\n",
        "          data1_y_f_b.append(0)\n",
        "        if action >= reward_fault_threshold:\n",
        "          data1_y_b.append(0)\n",
        "        else:\n",
        "          data1_y_b.append(1)\n",
        "        functional_fault=False\n",
        "        continue\n",
        "      if abs(state[0]) >= (2.4-epsilon) :\n",
        "        functional_fault = True\n",
        "      ind = unique1.index(ab)\n",
        "      # if len(w[0])>1:\n",
        "        # print('error len is greater than 1')\n",
        "      record[ind] = 1\n",
        "      # if you want the frequency go with the next line \n",
        "      # record[ind] += 1\n",
        "    data1_x_b.append(record)\n",
        "\n",
        "  return data1_x_b, data1_y_b, data1_y_f_b"
      ],
      "metadata": {
        "colab": {
          "base_uri": "https://localhost:8080/"
        },
        "id": "oPq2NIKLj3JT",
        "outputId": "69025a03-2e96-43f0-c746-d2c67eb936ab"
      },
      "execution_count": 4,
      "outputs": [
        {
          "output_type": "stream",
          "name": "stdout",
          "text": [
            "time: 41.3 ms (started: 2022-05-13 16:24:12 +00:00)\n"
          ]
        }
      ]
    },
    {
      "cell_type": "markdown",
      "metadata": {
        "id": "9lLqj1Au0kIe"
      },
      "source": [
        "##Genetic"
      ]
    },
    {
      "cell_type": "code",
      "execution_count": 5,
      "metadata": {
        "colab": {
          "base_uri": "https://localhost:8080/"
        },
        "outputId": "386f6f7e-0fad-400a-fa81-300802df340e",
        "id": "4uKBmhZF0kIe"
      },
      "outputs": [
        {
          "output_type": "stream",
          "name": "stdout",
          "text": [
            "time: 879 ms (started: 2022-05-13 16:24:12 +00:00)\n"
          ]
        }
      ],
      "source": [
        "def translator(episode,model, d, unique5):\n",
        "  \"\"\"\n",
        "  thid function takes the concrete episodes and returns the encoded episodes \n",
        "  based on the presence and absence of the individuals  \n",
        "  :param 'episode': input episode\n",
        "  :param 'model': RL model\n",
        "  :param 'd': abstraction level = 1\n",
        "  :param 'unique5': abstract classes \n",
        "  :return: encoded episodse based on the presence and absence\n",
        "\n",
        "  \"\"\"\n",
        "  d=d\n",
        "  record = np.zeros(len(unique5))\n",
        "  for state, action in episode:\n",
        "    ab = abstract_state(model,state,d)\n",
        "    if ab == 'end':\n",
        "      continue\n",
        "    if ab in unique5:\n",
        "      ind = unique5.index(ab)\n",
        "    record[ind] = 1\n",
        "  return [record]\n",
        "\n",
        "def transform(state):\n",
        "  position = state[0]\n",
        "  noise = np.random.uniform(low=0.95, high=1.05)\n",
        "  new_position= position * noise \n",
        "  new_state =deepcopy(state)\n",
        "  new_state[0] = new_position \n",
        "  #if new_position>2.4:\n",
        "  # newstate = 2.4\n",
        "  #if new_position<-2.4:\n",
        "  # newstate = -2.4\n",
        "  return new_state\n",
        "\n",
        "\n",
        "def mutation_improved(population,model,env,objective_uncovered):\n",
        "  \"\"\"\n",
        "  This is the final mutation function \n",
        "  It takes the population as input and returns the mutated individual\n",
        "  :param 'population': Population that we want to mutate \n",
        "  :param 'model': RL model\n",
        "  :param 'env': RL environment\n",
        "  :param 'objective_uncovered: uncovered ubjectives for tournament selection\n",
        "  :return: mutated candidate (we re-rexecute the episode from the mutation part)\n",
        "  To-do:\n",
        "  move deepcopy to the cadidate class methods .set info \n",
        "  \"\"\"\n",
        "  parent = tournament_selection(population, 10, objective_uncovered)  # tournament selection\n",
        "  parent1 = deepcopy(parent.get_candidate_values())\n",
        "  if len(parent1) < 3:\n",
        "     assert False , \"parent in mutation is shorter than 3\"\n",
        "  Mutpoint = random.randint(3,(len(parent1)-3))\n",
        "  new_state = transform(parent1[Mutpoint][0])\n",
        "  action = model.predict(new_state)\n",
        "  if action[0]!= int(parent1[Mutpoint][1]):\n",
        "    print('Mutation lured the agent ... ')\n",
        "  new_parent = parent1[:Mutpoint]\n",
        "  new_parent.append([new_state,'Mut'])\n",
        "  new_cand =Candidate(new_parent)\n",
        "  new_cand.set_start_state(parent.get_start_state())\n",
        "\n",
        "  re_executed_epis = re_execute(model,env,new_cand)\n",
        "  \n",
        "  re_executed_cand = Candidate(re_executed_epis)\n",
        "  re_executed_cand.set_start_state(new_cand.get_start_state())\n",
        "  re_executed_cand.set_info(deepcopy(parent.get_info()))\n",
        "  re_executed_cand.set_info([\"mutation is done! \", \"mutpoint was:\",Mutpoint])\n",
        "\n",
        "  \n",
        "  return re_executed_cand\n",
        "\n",
        "def mutation_improved_p(parent,model,env,m_rate):\n",
        "  \"\"\"\n",
        "  This is the final mutation function with input of a parent considering internal m_rate\n",
        "  Here we give the parent to themutation funcion based on the given mutation \n",
        "  rate of m_rate, we may mutate the episodes. \n",
        "  :param 'parent' : individual that we want to mutate\n",
        "  :param 'model': RL model\n",
        "  :param 'env': RL environment\n",
        "  :param 'm_rate': mutation : recommended value is 1/len(parent)\n",
        "  :return : mutated individual\n",
        "  To-do:\n",
        "  move deepcopy to the cadidate .set info \n",
        "  \"\"\"\n",
        "  # parent = tournament_selection(population, 10, objective_uncovered)  # tournament selection\n",
        "  global MUTATION_NUMBER\n",
        "  chance = random.uniform(0, 1)\n",
        "  if chance> m_rate:\n",
        "    return parent\n",
        "  else:\n",
        "    parent1 = deepcopy(parent.get_candidate_values())\n",
        "    if len(parent1) < 3:\n",
        "      assert False , \"parent in mutation is shorter than 3\"\n",
        "    Mutpoint = random.randint(3,(len(parent1)-3))\n",
        "    new_state = transform(parent1[Mutpoint][0])\n",
        "    action = model.predict(new_state)\n",
        "    if action[0]!= int(parent1[Mutpoint][1]):\n",
        "      print('Mutation lured the agent ... ')\n",
        "    new_parent = parent1[:Mutpoint]\n",
        "    new_parent.append([new_state,'Mut'])\n",
        "    new_cand =Candidate(new_parent)\n",
        "    new_cand.set_start_state(parent.get_start_state())\n",
        "    re_executed_epis = re_execute(model,env,new_cand)\n",
        "    re_executed_cand = Candidate(re_executed_epis)\n",
        "    re_executed_cand.set_start_state(new_cand.get_start_state())\n",
        "    re_executed_cand.set_info(deepcopy(parent.get_info()))\n",
        "    re_executed_cand.set_info([\"mutation is done! \", \"mutpoint was:\",Mutpoint])\n",
        "    MUTATION_NUMBER+=1\n",
        "    return re_executed_cand\n",
        "\n",
        "\n",
        "\n",
        "\n",
        "def Crossover_improved_v2(population,model,d,objective_uncovered):\n",
        "  \"\"\"\n",
        "  This is the crossover function that we are using \n",
        "  It takes the population as input and returns the mutated individual\n",
        "  :param 'population': Population. we select a parent based on the tournament\n",
        "   selection and then select the mutation point and then search for the matching point. \n",
        "  :param 'model': RL model\n",
        "  :param 'env': RL environment\n",
        "  :param 'objective_uncovered: uncovered ubjectives for tournament selection\n",
        "  :return: mutated candidate (we re-rexecute the episode from the mutation part)\n",
        "  To-do:\n",
        "  finding matching episode could be improved bu storing a mapping between concrete states and  \n",
        "  \"\"\"\n",
        "  found_match = False \n",
        "  while not (found_match):\n",
        "    parent = tournament_selection(population, 10, objective_uncovered)  # tournament selection\n",
        "    parent1 = deepcopy(parent.get_candidate_values())\n",
        "    parent1_start_point = deepcopy(parent.get_start_state())\n",
        "    if len(parent1)<4:\n",
        "      assert False, 'input of crossover is shorter than expected '\n",
        "    matches_list = []\n",
        "    crosspoint = random.randint(1,(len(parent1)-3))\n",
        "    abs_class = list(abstract_state(model,parent1[crosspoint][0],d))\n",
        "    for i in range(50):\n",
        "      indx = random.randint(0, len(population) - 1)\n",
        "      random_candidate = deepcopy(population[indx])\n",
        "      random_cand_data = random_candidate.get_candidate_values()\n",
        "      random_cand_start_point = random_candidate.get_start_state()\n",
        "      for st_index in range(1,len(random_cand_data)-3):\n",
        "        random_ab = list(abstract_state(model,random_cand_data[st_index][0],d))\n",
        "        if random_ab == abs_class:\n",
        "          matches_list.append(st_index)\n",
        "          found_match = True\n",
        "      if found_match:\n",
        "        break \n",
        "  # print('Crossover. attemp',i)\n",
        "  index_match_in_matchlist = random.randint(0, len(matches_list) - 1)\n",
        "  matchpoint = matches_list[index_match_in_matchlist]\n",
        "  match_candidate =  deepcopy(random_candidate)\n",
        "  match = deepcopy(random_cand_data)\n",
        "  match_start = deepcopy(random_cand_start_point)\n",
        "  offspring1 = deepcopy(parent1[:crosspoint])\n",
        "  offspring1 += deepcopy(match[matchpoint:])\n",
        "  offspring1[-1] = ['done',(len(offspring1)-1)]\n",
        "  candid1 = Candidate(offspring1)\n",
        "  candid1.set_start_state(parent1_start_point)\n",
        "  candid1.set_info(deepcopy(parent.get_info()))\n",
        "  candid1.set_info([\"crossover is Done!\", \"the crossover point is:\",crosspoint])\n",
        "  offspring2 = deepcopy(match[:matchpoint])\n",
        "  offspring2 += deepcopy(parent1[crosspoint:])\n",
        "  offspring2[-1] = ['done',(len(offspring2)-1)]\n",
        "  candid2 = Candidate(offspring2)\n",
        "  candid2.set_start_state(match_start)\n",
        "  candid2.set_info(deepcopy(match_candidate.get_info()))\n",
        "  candid2.set_info([\"crossover is Done!\", \"the crossover point is:\",matchpoint])\n",
        "\n",
        "  if len(offspring1)<4:\n",
        "    print(offspring1)\n",
        "    assert False, 'created offspring 1 in crossover is shorter than expected '\n",
        "\n",
        "  if len(offspring2)<4:\n",
        "    print(offspring2)\n",
        "    assert False, 'created offspring 2 in crossover is shorter than expected '\n",
        "\n",
        "  return candid1, candid2\n",
        "\n",
        "\n",
        "\n",
        "def Crossover_improved_v2_random(population,model,d,objective_uncovered):\n",
        "  found_match = False \n",
        "  while not found_match:\n",
        "    i = random.randint(0, len(population))\n",
        "    parent1 = deepcopy(population[i].get_candidate_values())\n",
        "    parent1_start_point = deepcopy(population[i].get_start_state())\n",
        "    matches_list = []\n",
        "    crosspoint = random.randint(1,(len(parent1)-3))\n",
        "    abs_class = list(abstract_state(model,parent1[crosspoint][0],d))\n",
        "    attemp = 0\n",
        "    for i in range(700):\n",
        "      attemp +=1\n",
        "      indx = random.randint(0, len(population) - 1)\n",
        "      random_candidate = deepcopy(population[indx])\n",
        "      random_cand_data = random_candidate.get_candidate_values()\n",
        "      random_cand_start_point = random_candidate.get_start_state()\n",
        "      for st_index in range(1,len(random_cand_data)-3):\n",
        "        random_ab = list(abstract_state(model,random_cand_data[st_index][0],d))\n",
        "        if random_ab == abs_class:\n",
        "          matches_list.append(st_index)\n",
        "          found_match = True\n",
        "      if found_match:\n",
        "        break \n",
        "  print(\"match found in --- attemps\",attemp)\n",
        "  index_match_in_matchlist = random.randint(0, len(matches_list) - 1)\n",
        "  matchpoint = matches_list[index_match_in_matchlist]\n",
        "  match_candidate = random_candidate\n",
        "  match = random_cand_data\n",
        "  match_start = deepcopy(random_cand_start_point)\n",
        "  offspring1 = deepcopy(parent1[:crosspoint])\n",
        "  offspring1 += deepcopy(match[matchpoint:])\n",
        "  offspring1[-1] = ['done',(len(offspring1)-1)]\n",
        "  candid1 = Candidate(offspring1)\n",
        "  candid1.set_start_state(parent1_start_point)\n",
        "\n",
        "  offspring2 = deepcopy(match[:matchpoint])\n",
        "  offspring2 += deepcopy(parent1[crosspoint:])\n",
        "  offspring2[-1] = ['done',(len(offspring2)-1)]\n",
        "  candid2 = Candidate(offspring2)\n",
        "  candid2.set_start_state(match_start)\n",
        "  return candid1, candid2\n",
        "\n",
        "\n",
        "def re_execute(model,env,candidate):\n",
        "  obs =env.reset()\n",
        "  obs =env.set_state(deepcopy(candidate.get_start_state()))\n",
        "  episode = candidate.get_candidate_values()\n",
        "  steps_to_mut_point = len(episode)\n",
        "  episode_reward = 0.0\n",
        "  done= False \n",
        "  for i in range(steps_to_mut_point):\n",
        "    action, _ = model.predict(obs, deterministic=True)\n",
        "    action_selected = episode[i][1]\n",
        "    if action_selected == 'Mut':\n",
        "      break\n",
        "    obs, reward, done, info = env.step(int(action_selected)) # its very important to select the action here it means that we may \n",
        "    #follow the previous path until the mutation point or we follow the route that the trained agent wants to follow forcing vs following \n",
        "    # env.render()\n",
        "    episode_reward += reward\n",
        "    if done:\n",
        "      break \n",
        "  # for j in range(200 - steps_to_mut_point): ###changed \n",
        "  for j in range(400):\n",
        "    if done:\n",
        "      break\n",
        "    action, _ = model.predict(obs, deterministic=True)\n",
        "    obs, reward, done, info = env.step(action) \n",
        "    # env.render()\n",
        "    # env.reset = state1\n",
        "    episode_reward += reward\n",
        "    if reward >201:\n",
        "      assert False\n",
        "  assert done\n",
        "  if episode_reward>201:\n",
        "    assert False \n",
        "  return info['mem'][-(int(episode_reward)+1):]\n",
        "\n",
        "\n",
        "def re_execution_improved(model,env,candidate):\n",
        "  differences=[]\n",
        "  episode_limit = 200 \n",
        "  env.reset()\n",
        "  obs =env.set_state(candidate.get_start_state()) \n",
        "  episode = candidate.get_candidate_values()\n",
        "  # steps_to_mut_point = len(episode)\n",
        "  episode_reward = 0.0\n",
        "  for i in range(episode_limit):\n",
        "    action, _ = model.predict(obs, deterministic=True)\n",
        "    action_selected = episode[i][1]\n",
        "    if  episode[i][0]=='done':\n",
        "      continue\n",
        "    if i >=len(episode):\n",
        "      action, _ = model.predict(obs, deterministic=True)\n",
        "      obs, reward, done, info = env.step(int(action)) \n",
        "      continue\n",
        "    if action != int(action_selected):\n",
        "      prob=model.action_probability(episode[i][0])\n",
        "      differences.append([i , prob])\n",
        "    obs, reward, done, info = env.step(int(action_selected))\n",
        "    # env.render()\n",
        "    # env.reset = state1\n",
        "    episode_reward += reward\n",
        "    if done:\n",
        "      # assert not done\n",
        "      break \n",
        "  assert done , \"not finished in 2oo steps \"\n",
        "  return differences\n",
        "\n",
        "\n",
        "def re_execution_improved_v2(model,env,candidate):\n",
        "  differences=[]\n",
        "  episode_limit = 200 \n",
        "  env.reset()\n",
        "  obs =env.set_state(candidate.get_start_state()) \n",
        "  episode = candidate.get_candidate_values()\n",
        "  episode_reward = 0.0\n",
        "  for i in range(episode_limit):\n",
        "    if i >=(len(episode)-1):\n",
        "      action, _ = model.predict(obs, deterministic=True)\n",
        "      obs, reward, done, info = env.step(int(action)) \n",
        "      if done:\n",
        "      # assert not done\n",
        "        print(\"Reward:\", episode_reward)\n",
        "        # break\n",
        "        return differences \n",
        "      continue\n",
        "    action, _ = model.predict(obs, deterministic=True)\n",
        "    if  episode[i][0]=='done':\n",
        "      print(\"first scenario, episode finished correctly\")\n",
        "      # continue\n",
        "    print(len(episode),i)\n",
        "    action_selected = episode[i][1]\n",
        "    if action != int(action_selected):\n",
        "      prob=model.action_probability(episode[i][0])\n",
        "      differences.append([i , prob])\n",
        "    obs, reward, done, info = env.step(int(action_selected)) \n",
        "    # env.render()\n",
        "    # env.reset = state1\n",
        "    episode_reward += reward\n",
        "    if done:\n",
        "      # assert not done\n",
        "      break \n",
        "  assert done , \"not finished in 2oo steps \"\n",
        "  return differences"
      ]
    },
    {
      "cell_type": "code",
      "execution_count": 6,
      "metadata": {
        "colab": {
          "base_uri": "https://localhost:8080/"
        },
        "outputId": "a42aedc2-e760-49e3-a951-bdafa0f7f521",
        "id": "WWyLbYt30kIe"
      },
      "outputs": [
        {
          "output_type": "stream",
          "name": "stdout",
          "text": [
            "time: 77.8 ms (started: 2022-05-13 16:24:13 +00:00)\n"
          ]
        }
      ],
      "source": [
        "import numpy as np\n",
        "class Candidate:\n",
        "    def __init__(self, candidates_vals):\n",
        "        if isinstance(candidates_vals, (np.ndarray, np.generic)):\n",
        "            self.candidate_values = candidates_vals.tolist()\n",
        "        else:\n",
        "            self.candidate_values = candidates_vals\n",
        "        self.objective_values = []\n",
        "        self.objectives_covered = []\n",
        "        self.crowding_distance = 0\n",
        "        self.uncertainity = []\n",
        "        self.start_state = 0\n",
        "        self.information = []\n",
        "        self.mutation = False\n",
        "\n",
        "    def get_candidate_values(self):\n",
        "        return self.candidate_values\n",
        "\n",
        "    def get_uncertainity_value(self, indx):\n",
        "        return self.uncertainity[indx]\n",
        "    def get_uncertainity_values(self):\n",
        "        return self.uncertainity\n",
        "    def set_uncertainity_values(self,uncertain):\n",
        "        self.uncertainity = uncertain\n",
        "    def set_candidate_values(self, cand):\n",
        "        self.candidate_values = cand\n",
        "    def set_candidate_values_at_index(self, indx,val):\n",
        "        self.candidate_values[indx] = val\n",
        "\n",
        "    def get_objective_values(self):\n",
        "        return self.objective_values\n",
        "\n",
        "    def get_objective_value(self, indx):\n",
        "        return self.objective_values[indx]\n",
        "\n",
        "    def set_objective_values(self, obj_vals):\n",
        "        self.objective_values = obj_vals\n",
        "\n",
        "    def add_objectives_covered(self, obj_covered):\n",
        "        if obj_covered not in self.objectives_covered:\n",
        "            self.objectives_covered.append(obj_covered)\n",
        "\n",
        "    def get_covered_objectives(self):\n",
        "        return self.objectives_covered\n",
        "\n",
        "    def set_crowding_distance(self, cd):\n",
        "        self.crowding_distance = cd\n",
        "\n",
        "    def get_crowding_distance(self):\n",
        "        return self.crowding_distance\n",
        "\n",
        "    def exists_in_satisfied(self, indx):\n",
        "        for ind in self.objectives_covered:\n",
        "            if ind == indx:\n",
        "                return True\n",
        "        return False\n",
        "\n",
        "    def is_objective_covered(self, obj_to_check):\n",
        "        for obj in self.objectives_covered:\n",
        "            if obj == obj_to_check:\n",
        "                return True\n",
        "        return False\n",
        "    def set_start_state(self,start_point):\n",
        "      self.start_state = deepcopy(start_point)\n",
        "\n",
        "    def get_start_state(self):\n",
        "      return self.start_state\n",
        "\n",
        "    def set_info(self, new_information):\n",
        "      self.information.append(new_information)\n",
        "      \n",
        "    def get_info(self):\n",
        "      return self.information\n",
        "\n",
        "    def mutated(self):\n",
        "      self.mutation = True"
      ]
    },
    {
      "cell_type": "code",
      "source": [
        "def mutation_number_update(file_address,Mut_Num_to_add,iteration):\n",
        "  if iteration == 0:\n",
        "    with open(file_address, 'wb') as file:\n",
        "      pickle.dump(Mut_Num_to_add, file)\n",
        "    return\n",
        "  with open(file_address, 'rb') as file2:\n",
        "    Mut_num = pickle.load(file2)\n",
        "  print(Mut_num)\n",
        "  if type(Mut_num) == list:\n",
        "    print('list')\n",
        "    buffer = Mut_num\n",
        "    buffer.append(Mut_Num_to_add)\n",
        "    print(buffer)\n",
        "  else:\n",
        "    print('int')\n",
        "    buffer =[] \n",
        "    buffer.append(Mut_num)\n",
        "    buffer.append(Mut_Num_to_add)\n",
        "    print(buffer)\n",
        "  with open(file_address, 'wb') as file:\n",
        "    pickle.dump(buffer, file)\n"
      ],
      "metadata": {
        "colab": {
          "base_uri": "https://localhost:8080/"
        },
        "id": "oAfz-sEuTXmG",
        "outputId": "4db6cfd0-7e6d-4d9f-e5dc-d9fb1ba33025"
      },
      "execution_count": 7,
      "outputs": [
        {
          "output_type": "stream",
          "name": "stdout",
          "text": [
            "time: 12.4 ms (started: 2022-05-13 16:24:13 +00:00)\n"
          ]
        }
      ]
    },
    {
      "cell_type": "markdown",
      "metadata": {
        "id": "Zn74YeHU0kIf"
      },
      "source": [
        "##MOSA"
      ]
    },
    {
      "cell_type": "code",
      "execution_count": 8,
      "metadata": {
        "colab": {
          "base_uri": "https://localhost:8080/"
        },
        "outputId": "22743972-8e6f-4311-b18c-f01237da2c45",
        "id": "1n-gDNI20kIg"
      },
      "outputs": [
        {
          "output_type": "stream",
          "name": "stdout",
          "text": [
            "time: 392 ms (started: 2022-05-13 16:24:13 +00:00)\n"
          ]
        }
      ],
      "source": [
        "scaler = preprocessing.StandardScaler()\n",
        "\n",
        "\n",
        "\n",
        "# domination relation method, same as MOSA \n",
        "def dominates(value_from_pop, value_from_archive, objective_uncovered):\n",
        "    dominates_f1 = False\n",
        "    dominates_f2 = False\n",
        "    for each_objective in objective_uncovered:\n",
        "        f1 = value_from_pop[each_objective]\n",
        "        f2 = value_from_archive[each_objective]\n",
        "        if f1 < f2:\n",
        "            dominates_f1 = True\n",
        "        if f2 < f1:\n",
        "            dominates_f2 = True\n",
        "        if dominates_f1 and dominates_f2:\n",
        "            break\n",
        "    if dominates_f1 == dominates_f2:\n",
        "        return False\n",
        "    elif dominates_f1:\n",
        "        return True\n",
        "    return False\n",
        "\n",
        "\n",
        "\n",
        "\n",
        "# calculating the fitness value function\n",
        "\n",
        "def evaulate_population(func, pop , parameters):\n",
        "    for candidate in pop:\n",
        "      if isinstance(candidate, Candidate):\n",
        "        result = func(candidate.get_candidate_values())\n",
        "        candidate.set_objective_values(result)\n",
        "        print(candidate.get_objective_values())\n",
        "\n",
        "def evaulate_population_with_archive(func, pop, already_executed):\n",
        "    to_ret = []\n",
        "    for candidate in pop:\n",
        "        if isinstance(candidate, Candidate):\n",
        "            if candidate.get_candidate_values() in already_executed:\n",
        "                continue\n",
        "\n",
        "            result = func(candidate.get_candidate_values())\n",
        "            candidate.set_objective_values(result)\n",
        "            already_executed.append(candidate.get_candidate_values())\n",
        "            to_ret.append(candidate)\n",
        "    return to_ret\n",
        "\n",
        "def exists_in_archive(archive, index):\n",
        "    for candidate in archive:\n",
        "        if candidate.exists_in_satisfied(index):\n",
        "            return True\n",
        "    return False\n",
        "\n",
        "\n",
        "# searching archive\n",
        "def get_from_archive(obj_index, archive):\n",
        "    for candIndx in range(len(archive)):\n",
        "        candidate = archive[candIndx]\n",
        "        if candidate.exists_in_satisfied(obj_index):\n",
        "            return candidate, candIndx\n",
        "    return None\n",
        "\n",
        "\n",
        "# updating archive with adding the number of objective it satisfies, Same as Mosa paper\n",
        "def update_archive(pop, objective_uncovered, archive, no_of_Objectives, threshold_criteria):\n",
        "    for objective_index in range(no_of_Objectives):\n",
        "        for pop_index in range(len(pop)):\n",
        "            objective_values = pop[pop_index].get_objective_values()\n",
        "            # if not objective_values[objective_index] or not threshold_criteria[objective_index]:\n",
        "            if objective_values[objective_index] <= threshold_criteria[objective_index]:\n",
        "                if exists_in_archive(archive, objective_index):\n",
        "                    archive_value, cand_indx = get_from_archive(objective_index, archive)\n",
        "                    obj_archive_values = archive_value.get_objective_values()\n",
        "                    if obj_archive_values[objective_index] > objective_values[objective_index]:\n",
        "                        value_to_add = pop[pop_index]\n",
        "                        value_to_add.add_objectives_covered(objective_index)\n",
        "                        # archive.append(value_to_add)\n",
        "                        archive[cand_indx] = value_to_add\n",
        "                        if objective_index in objective_uncovered:\n",
        "                            objective_uncovered.remove(objective_index)\n",
        "                        # archive.remove(archive_value)\n",
        "                else:\n",
        "                    value_to_add = pop[pop_index]\n",
        "                    value_to_add.add_objectives_covered(objective_index)\n",
        "                    archive.append(value_to_add)\n",
        "                    if objective_index in objective_uncovered:\n",
        "                        objective_uncovered.remove(objective_index)\n",
        "\n",
        "\n",
        "# method to get the most dominating one\n",
        "def select_best(tournament_candidates, objective_uncovered):\n",
        "    best = tournament_candidates[0]  # in case none is dominating other\n",
        "    for i in range(len(tournament_candidates)):\n",
        "        candidate1 = tournament_candidates[i]\n",
        "        for j in range(len(tournament_candidates)):\n",
        "            candidate2 = tournament_candidates[j]\n",
        "            if (dominates(candidate1.get_objective_values(), candidate2.get_objective_values(), objective_uncovered)):\n",
        "                best = candidate1\n",
        "    return best\n",
        "\n",
        "\n",
        "def tournament_selection_improved(pop, size, objective_uncovered):\n",
        "    tournament_candidates = []\n",
        "    for i in range(size):\n",
        "        indx = random.randint(0, len(pop) - 1)\n",
        "        random_candidate = pop[indx]\n",
        "        tournament_candidates.append(random_candidate)\n",
        "\n",
        "    best = select_best(tournament_candidates, objective_uncovered)\n",
        "    return best;\n",
        "\n",
        "\n",
        "def tournament_selection(pop, size, objective_uncovered):\n",
        "    tournament_candidates = []\n",
        "    for i in range(size):\n",
        "        indx = random.randint(0, len(pop) - 1)\n",
        "        random_candidate = pop[indx]\n",
        "        tournament_candidates.append(random_candidate)\n",
        "\n",
        "    best = select_best(tournament_candidates, objective_uncovered)\n",
        "    return best;\n",
        "\n",
        "\n",
        "\n",
        "\n",
        "def generate_offspring_improved(population,model,env,d,objective_uncovered):\n",
        "    population_to_return = []\n",
        "    probability_C = 0.75\n",
        "    probability_M = 0.3\n",
        "    size = len(population)\n",
        "    while (len(population_to_return) < size):\n",
        "      probability_crossover = random.uniform(0, 1)\n",
        "      if probability_crossover <= probability_C:  # 75% probability\n",
        "        off1, off2 = Crossover_improved_v2(population,model,1,objective_uncovered)\n",
        "        population_to_return.append(off1)\n",
        "        population_to_return.append(off2)\n",
        "      probability_mutation = random.uniform(0, 1)\n",
        "      if probability_mutation <= probability_M:  # 30% probability this in for test purposes \n",
        "        off3 = mutation_improved(population, model,env,objective_uncovered)\n",
        "        population_to_return.append(off3)\n",
        "    return population_to_return\n",
        "\n",
        "\n",
        "\n",
        "\n",
        "\n",
        "\n",
        "def generate_offspring_improved_v2(population,model,env,d,objective_uncovered):\n",
        "    \n",
        "    population_to_return = []\n",
        "    probability_C = 0.75\n",
        "    probability_M = 0.01\n",
        "    size = len(population)\n",
        "    while (len(population_to_return) < size):\n",
        "      probability_crossover = random.uniform(0, 1)\n",
        "      if probability_crossover <= probability_C:  # 75% probability\n",
        "        parent1, parent2 = Crossover_improved_v2(population,model,d,objective_uncovered)\n",
        "        parent1 = mutation_improved_p(parent1, model,env, (1 / len(parent1.get_candidate_values())))\n",
        "        parent2 = mutation_improved_p(parent2, model,env, (1 / len(parent1.get_candidate_values())))\n",
        "        population_to_return.append(parent1)\n",
        "        population_to_return.append(parent2)\n",
        "\n",
        "      if probability_crossover > probability_C:\n",
        "        parent = tournament_selection(population, 10, objective_uncovered)\n",
        "        population_to_return.append(mutation_improved_p(parent, model,env,probability_M))\n",
        "      \n",
        "\n",
        "    return population_to_return\n",
        "\n",
        "\n",
        "\n",
        "def save_all_data(pop,no_of_Objectives,threshold_criteria, stored_data):\n",
        "  '''\n",
        "  This function will save all individulas with objective lower than treshhold \n",
        "\n",
        "  '''\n",
        "  threshold_criteria_to_add_to_archive = [70, 0.06, 0.05, 0.05] \n",
        "  # be careful here ypu can set the satisfiing objectives that based on them you want to store the data  \n",
        "  for individual in pop:\n",
        "    individual_objective = individual.get_objective_values()\n",
        "    for i in range(no_of_Objectives):\n",
        "      if individual_objective[i]<threshold_criteria_to_add_to_archive[i]:\n",
        "        # if individual not in stored_data:\n",
        "        #   ind_ = deepcopy(individual)\n",
        "        #   stored_data.append(ind_)\n",
        "        # individual_objective_values = individual.get_objective_values()\n",
        "        found = False\n",
        "        for j in range(len(stored_data)):\n",
        "          if individual_objective == stored_data[j].get_objective_values():\n",
        "            found = True\n",
        "            break\n",
        "        if not found:\n",
        "          ind_ = deepcopy(individual)\n",
        "          stored_data.append(ind_)\n",
        "  # return stored_data\n",
        "\n",
        "def save_all_data2(pop, stored_data):\n",
        "  '''\n",
        "  This function will save all individulas in generations \n",
        "  you need to remove redundant data (based on fitness and ...)\n",
        "\n",
        "  '''\n",
        "  stored_data.append(list(pop))\n",
        "\n",
        "def Build_Archive(pop,no_of_Objectives,threshold_criteria, stored_data, initial_population):\n",
        "  '''\n",
        "  If you are using the Archive of all generated episodes, this function\n",
        "  removes the duplicated results and builds the Archive.\n",
        "  :param 'pop': current generation\n",
        "  :param 'no_of_Objectives': number of objectives\n",
        "  :param 'threshold_criteria': threshold criteria (we are intrested in episodes that have fitness below these threshold values)\n",
        "  :param 'stored_data': Archive of final episodes (return)\n",
        "  :param 'initial_population': initial population. we are not considering these episodes in our archive for the second senario you need to add the number of faults, (implementation in RQ3)\n",
        "  '''\n",
        "  threshold_criteria_to_add_to_archive = threshold_criteria\n",
        "# be careful as we can have different values for criterias here to add episodes to archive and for GA stopping criteria \n",
        "  for individual in pop:\n",
        "    individual_objective = individual.get_objective_values()\n",
        "    for i in range(no_of_Objectives):\n",
        "      if individual_objective[i]<threshold_criteria_to_add_to_archive[i]:\n",
        "        found = False\n",
        "        for j in range(len(stored_data)):\n",
        "          if individual_objective == stored_data[j].get_objective_values():\n",
        "            found = True\n",
        "            break\n",
        "        for k in range(len(initial_population)):\n",
        "          if individual_objective == initial_population[k].get_objective_values():\n",
        "            found = True\n",
        "            break\n",
        "        if not found:\n",
        "          ind_ = deepcopy(individual)\n",
        "          stored_data.append(ind_)\n",
        "\n"
      ]
    },
    {
      "cell_type": "markdown",
      "metadata": {
        "id": "V6FGti_90kIg"
      },
      "source": [
        "###Sorting and RUN search"
      ]
    },
    {
      "cell_type": "code",
      "execution_count": 9,
      "metadata": {
        "colab": {
          "base_uri": "https://localhost:8080/"
        },
        "outputId": "283fca38-86e1-4e2d-f80c-dc67daac8e01",
        "id": "KBUH2Ykh0kIg"
      },
      "outputs": [
        {
          "output_type": "stream",
          "name": "stdout",
          "text": [
            "time: 346 ms (started: 2022-05-13 16:24:13 +00:00)\n"
          ]
        }
      ],
      "source": [
        "\n",
        "# finding best candidates and assigning to each front\n",
        "def fast_dominating_sort(R_T, objective_uncovered):\n",
        "    to_return = []\n",
        "    front = []\n",
        "    count = 0\n",
        "    while len(R_T) > 1:\n",
        "        count = 0\n",
        "        for outer_loop in range(len(R_T)):\n",
        "            best = R_T[outer_loop]\n",
        "            add = True\n",
        "            for inner_loop in range(len(R_T)):\n",
        "                against = R_T[inner_loop]\n",
        "                if best == against:\n",
        "                    continue\n",
        "                if (dominates(best.get_objective_values(), against.get_objective_values(), objective_uncovered)):\n",
        "                    continue\n",
        "                else:\n",
        "                    add = False\n",
        "                    break\n",
        "\n",
        "            if add == True:\n",
        "                if best not in front:\n",
        "                    front.append(best)\n",
        "\n",
        "                count = count + 1\n",
        "\n",
        "        if len(front) > 0:\n",
        "            to_return.append(front)\n",
        "            for i in range(len(front)):\n",
        "                R_T.remove(front[i])\n",
        "                front = []\n",
        "\n",
        "        if (len(to_return) == 0) or (count == 0):  # to check if no one dominates no one\n",
        "            to_return.append(R_T)\n",
        "            break\n",
        "\n",
        "    return to_return\n",
        "\n",
        "\n",
        "# sorting based on crowding distance\n",
        "def sort_based_on_crowding_distance(e):\n",
        "    values = e.get_crowding_distance()\n",
        "    return values\n",
        "\n",
        "\n",
        "def sort_based_on(e):\n",
        "    values = e.get_objective_values()\n",
        "    return values[0]\n",
        "\n",
        "\n",
        "# sorting based on first objective value\n",
        "def sort_worse(pop):\n",
        "    pop.sort(key=sort_based_on, reverse=True)\n",
        "    return pop\n",
        "# preference sort, same as algorithm\n",
        "def preference_sort(R_T, size, objective_uncovered):\n",
        "    to_return = []\n",
        "    for objective_index in objective_uncovered:\n",
        "        min = 100\n",
        "        best = R_T[0]\n",
        "        for index in range(len(R_T)):\n",
        "            objective_values = R_T[index].get_objective_values()\n",
        "            if objective_values[objective_index] < min:\n",
        "                min = objective_values[objective_index]\n",
        "                best = R_T[index]\n",
        "        to_return.append(best)\n",
        "        R_T.remove(best)\n",
        "    if len(R_T)>0:\n",
        "        E = fast_dominating_sort(R_T, objective_uncovered)\n",
        "        for i in range(len(E)):\n",
        "            to_return.append(E[i])\n",
        "    return to_return\n",
        "\n",
        "\n",
        "# converting to numpy array (Required by library)\n",
        "def get_array_for_crowding_distance(sorted_front):\n",
        "    list = []\n",
        "    for value in sorted_front:\n",
        "        objective_values = value.get_objective_values()\n",
        "\n",
        "        np_array = numpy.array(objective_values)\n",
        "        list.append(np_array)\n",
        "\n",
        "    np_list = np.array(list)\n",
        "    cd = calc_crowding_distance(np_list)\n",
        "    return cd\n",
        "# method to assign each candidate its crownding distance\n",
        "\n",
        "def assign_crowding_distance_to_each_value(sorted_front, crowding_distance):\n",
        "    for candidate_index in range(len(sorted_front)):\n",
        "        objective_values = sorted_front[candidate_index]\n",
        "        objective_values.set_crowding_distance(crowding_distance[candidate_index])\n",
        "\n",
        "def run_search(func, initial_population, no_of_Objectives, criteria,archive,logger,start,time_budget,size,d,env, parameters , second_archive,gens):\n",
        "    global MUTATION_NUMBER\n",
        "    MUTATION_NUMBER=0\n",
        "    threshold_criteria = criteria \n",
        "    objective_uncovered = []\n",
        "    print(\"initial population \",type(initial_population),len(initial_population))\n",
        "\n",
        "    for obj in range(no_of_Objectives):\n",
        "        objective_uncovered.append(obj)  # initializing number of uncovered objective\n",
        "\n",
        "    random_population = initial_population \n",
        "\n",
        "    P_T = copy.copy(random_population)\n",
        "    evaulate_population(func, random_population ,parameters)  # evaluating whole generation and storing results propabibly its with candidates\n",
        "\n",
        "    print(random_population[0].get_objective_values())\n",
        "    update_archive(random_population, objective_uncovered, archive, no_of_Objectives,threshold_criteria)  # updating archive \n",
        "    # save initial population\n",
        "    save_all_data2(random_population,gens)\n",
        "    iteration = 0\n",
        "    #limit of number of generations \n",
        "    while iteration <10:\n",
        "        iteration = iteration + 1  # iteration count\n",
        "        #To-DO: limit by the time budget instead of the generation number\n",
        "        for arc in archive:\n",
        "            logger.info(\"***ARCHIVE***\")\n",
        "            logger.info(\"\\nValues: \" + str(\n",
        "                arc.get_candidate_values()) + \"\\nwith objective values: \" + str(\n",
        "                arc.get_objective_values()) + \"\\nSatisfying Objective: \" + str(\n",
        "                arc.get_covered_objectives()))\n",
        "        print(\"Iteration count: \" + str(iteration))\n",
        "        logger.info(\"Iteration is : \" + str(iteration))\n",
        "        logger.info(\"Number of mutations : \" + str(MUTATION_NUMBER))\n",
        "\n",
        "        R_T = []\n",
        "        \n",
        "        Q_T = generate_offspring_improved_v2(P_T,model,env,d,objective_uncovered) #generate offsprings using crossover and mutation \n",
        "\n",
        "        evaulate_population(func, Q_T, parameters)  # evaluating offspring\n",
        "        update_archive(Q_T, objective_uncovered, archive, no_of_Objectives, threshold_criteria)  # updating archive\n",
        "        save_all_data(Q_T,no_of_Objectives,threshold_criteria,second_archive)\n",
        "        # save generations\n",
        "        save_all_data2(Q_T,gens)\n",
        "        R_T = copy.deepcopy(P_T)  # R_T = P_T union Q_T\n",
        "        R_T.extend(Q_T)\n",
        "\n",
        "        F = preference_sort(R_T, size, objective_uncovered)  # Preference sorting and getting fronts\n",
        "\n",
        "        if len(objective_uncovered) == 0:  # checking if all objectives are covered\n",
        "            print(\"all_objectives_covered\")\n",
        "            logger.info(\"***Final-ARCHIVE***\")\n",
        "            print((\"***Final-ARCHIVE***\"))\n",
        "            for arc in archive:\n",
        "                print(\"\\nValues: \" + str(\n",
        "                    arc.get_candidate_values()) + \"\\nwith objective values: \" + str(\n",
        "                    arc.get_objective_values()) + \"\\nSatisfying Objective: \" + str(\n",
        "                    arc.get_covered_objectives()))\n",
        "\n",
        "                logger.info(\"\\nValues: \" + str(\n",
        "                    arc.get_candidate_values()) + \"\\nwith objective values: \" + str(\n",
        "                    arc.get_objective_values()) + \"\\nSatisfying Objective: \" + str(\n",
        "                    arc.get_covered_objectives()))\n",
        "            logger.info(\"Iteration is : \"+str(iteration))\n",
        "            logger.info(\"Number of mutations : \"+str(MUTATION_NUMBER))\n",
        "            break\n",
        "\n",
        "        P_T_1 = []  # creating next generatint PT+1\n",
        "        index = 0\n",
        "\n",
        "        while len(P_T_1) <= size:  # if length of current generation is less that size of front at top then add it\n",
        "\n",
        "            if not isinstance(F[index], Candidate):\n",
        "                if len(P_T_1) + len(F[index]) > size:\n",
        "                    break\n",
        "            else:\n",
        "                if len(P_T_1) + 1 > size:\n",
        "                    break\n",
        "\n",
        "            front = F[index]\n",
        "            if isinstance(F[index], Candidate):  # if front contains only one item\n",
        "                P_T_1.append(F[index])\n",
        "                F.remove(F[index])\n",
        "            else:\n",
        "                for ind in range(len(F[index])):  # if front have multiple items\n",
        "                    val = F[index][ind]\n",
        "                    P_T_1.append(val)\n",
        "\n",
        "                F.remove(F[index])\n",
        "        while (len(P_T_1)) < size:  # crowding distance\n",
        "            copyFront = copy.deepcopy(F[index])\n",
        "            sorted_front = sort_worse(copyFront)  # sort before crowding distance\n",
        "\n",
        "            crowding_distance = get_array_for_crowding_distance(sorted_front)  # coverting to libaray compaitble array\n",
        "            assign_crowding_distance_to_each_value(sorted_front,\n",
        "                                                   crowding_distance)  # assinging each solution its crowding distance\n",
        "            sorted_front.sort(key=sort_based_on_crowding_distance, reverse=True)  # sorting based on crowding distance\n",
        "\n",
        "            if (len(sorted_front) + len(\n",
        "                    P_T_1)) > size:  # maintaining length and adding solutions with most crowding distances\n",
        "                for sorted_front_indx in range(len(sorted_front)):\n",
        "                    candidate = sorted_front[sorted_front_indx]\n",
        "                    P_T_1.append(candidate)\n",
        "                    if len(P_T_1) >= size:\n",
        "                        break\n",
        "\n",
        "            index = index + 1\n",
        "\n",
        "        P_T_1 = P_T_1[0:size]\n",
        "        P_T = P_T_1  # assigning PT+1 to PT\n",
        "\n",
        "\n",
        "def minimize(func, population, lb, ub, no_of_Objectives, criteria,time_budget,logger,archive,size,d,env,parameters, second_archive,gens):\n",
        "    assert hasattr(func, '__call__')\n",
        "\n",
        "    start = time.time()\n",
        "    run_search(func, population, no_of_Objectives, criteria,archive,logger,start,time_budget,size,d,env ,parameters, second_archive,gens)\n",
        "\n"
      ]
    },
    {
      "cell_type": "code",
      "execution_count": 10,
      "metadata": {
        "colab": {
          "base_uri": "https://localhost:8080/"
        },
        "outputId": "ca4ba2f8-a774-47f1-920d-9692ae3b3658",
        "id": "ByWuiYI40kIh"
      },
      "outputs": [
        {
          "output_type": "stream",
          "name": "stdout",
          "text": [
            "time: 39.5 ms (started: 2022-05-13 16:24:13 +00:00)\n"
          ]
        }
      ],
      "source": [
        "class CartPole_caseStudy():\n",
        "    def __init__(self):\n",
        "        logger = logging.getLogger()\n",
        "\n",
        "        now = datetime.now()\n",
        "        log_file = 'output/STARLA' + str(i) + '_V2' + str(now) + '.log'\n",
        "        logging.basicConfig(filename=log_file,\n",
        "                            format='%(asctime)s %(message)s')\n",
        "        self.parameters = [model,d,unique5]\n",
        "        logger.setLevel(logging.DEBUG)\n",
        "    def _evaluate(self,x):\n",
        "        fv = x\n",
        "        model,d,unique5 = self.parameters\n",
        "        obj1 = fitness_reward(fv)\n",
        "        obj2 = fitness_confidence(fv,model,'m')\n",
        "        binary_fv = translator(fv,model,d,unique5)\n",
        "        obj3 = fitness_functional_probability(RF_FF_1rep,binary_fv)\n",
        "        obj4 = fitness_functional_probability(RF_RF_1rep,binary_fv)\n",
        "        to_ret = [obj1,obj2,obj3,obj4]\n",
        "        logger = logging.getLogger()\n",
        "        logger.info(str(fv)+\",\"+str(to_ret))\n",
        "        return to_ret\n",
        "\n",
        "\n",
        "def run(i,population ,archive ,second_archive, gens):\n",
        "    env=env2\n",
        "    d=1\n",
        "    size = len(population)\n",
        "    lb = [0, 0, 0,0]\n",
        "    ub = [100000,1000000,100000,100000]\n",
        "\n",
        "    parameters = [model,d,unique1]\n",
        "    threshold_criteria = [70, 0.04, 0.05, 0.05]\n",
        "\n",
        "\n",
        "    no_of_Objectives = 4;\n",
        "    print(\"1\",type(population),len(population))\n",
        "\n",
        "    now = datetime.now()\n",
        "    global logger\n",
        "    logger = logging.getLogger()\n",
        "    log_file = '/content/drive/MyDrive/log/STARLA' + str(i) + '_V2' + str(now) + '.log'\n",
        "    logging.basicConfig(filename=log_file,\n",
        "                        format='%(asctime)s %(message)s')\n",
        "\n",
        "    logger.setLevel(logging.DEBUG)\n",
        "\n",
        "    archive = minimize(CartPole_caseStudy()._evaluate, population, lb, ub,\n",
        "                       no_of_Objectives, threshold_criteria, 7200, \n",
        "                       logger,archive,size,d,env2 , parameters, second_archive,gens)\n",
        "    logger.info(\"Iteration completed\")\n",
        "    logger.info(\"mu\"+str(MUTATION_NUMBER))\n"
      ]
    },
    {
      "cell_type": "markdown",
      "metadata": {
        "id": "JHbBOzQa0kIh"
      },
      "source": [
        "###analyzer"
      ]
    },
    {
      "cell_type": "code",
      "execution_count": 11,
      "metadata": {
        "colab": {
          "base_uri": "https://localhost:8080/"
        },
        "outputId": "90098043-52d1-494a-f136-cffcb256e5bc",
        "id": "l8OA5Mef0kIi"
      },
      "outputs": [
        {
          "output_type": "stream",
          "name": "stdout",
          "text": [
            "time: 88.1 ms (started: 2022-05-13 16:24:14 +00:00)\n"
          ]
        }
      ],
      "source": [
        "def analyze_result(result):\n",
        "  '''\n",
        "  this function is to aggrigate the differences of the results \n",
        "  :param `result`: this is the output of the re-execution-improved function\n",
        "  :return ``:\n",
        "  '''\n",
        "  total_dif =0\n",
        "  # store_diff=[]\n",
        "  for i in range(len(result)):\n",
        "    dif = abs(result[i][1][0] - result[i][1][1])\n",
        "    # store_diff.append([i,dif])\n",
        "    total_dif += dif\n",
        "  return total_dif #, store_diff\n",
        "\n",
        "\n",
        "def get_objective_distribution_and_set_candidate_objectives(population,model,d,\n",
        "                                                            unique1,RF_FF_1rep,\n",
        "                                                            RF_RF_1rep):\n",
        "  fit1_list =[]\n",
        "  fit2_list =[]\n",
        "  fit3_list =[]\n",
        "  fit4_list =[]\n",
        "  for i in range(len(population)):\n",
        "    ind_data = population[i].get_candidate_values()\n",
        "    fit1 = fitness_reward(ind_data)\n",
        "    fit2 = fitness_confidence(ind_data,model,'m')\n",
        "    binary_fv = translator(ind_data,model,d,unique1)\n",
        "    fit3 = fitness_functional_probability(RF_FF_1rep,binary_fv)\n",
        "    fit4 = fitness_reward_probability(RF_RF_1rep,binary_fv)\n",
        "    obj = [fit1,fit2,fit3,fit4]\n",
        "    population[i].set_objective_values(obj)\n",
        "    fit1_list.append(fit1)\n",
        "    fit2_list.append(fit2)\n",
        "    fit3_list.append(fit3)\n",
        "    fit4_list.append(fit4)\n",
        "  return   fit1_list, fit2_list, fit3_list, fit4_list \n",
        "\n",
        "def get_objective_distribution(population,model,d,unique1,RF_FF_1rep,RF_RF_1rep):\n",
        "  fit1_list =[]\n",
        "  fit2_list =[]\n",
        "  fit3_list =[]\n",
        "  fit4_list =[]\n",
        "  for i in range(len(population)):\n",
        "    ind_data = population[i].get_candidate_values()\n",
        "    fit1 = fitness_reward(ind_data)\n",
        "    fit2 = fitness_confidence(ind_data,model,'m')\n",
        "    binary_fv = translator(ind_data,model,d,unique1)\n",
        "    fit3 = fitness_functional_probability(RF_FF_1rep,binary_fv)\n",
        "    fit4 = fitness_reward_probability(RF_RF_1rep,binary_fv)\n",
        "    # obj = [fit1,fit2,fit3,fit4]\n",
        "    # population[i].set_objective_values(obj)\n",
        "    fit1_list.append(fit1)\n",
        "    fit2_list.append(fit2)\n",
        "    fit3_list.append(fit3)\n",
        "    fit4_list.append(fit4)\n",
        "  return   fit1_list, fit2_list, fit3_list, fit4_list \n",
        "\n",
        "\n",
        "def was_in_initial_population(solution, population,no_of_Objectives):\n",
        "  flag = False\n",
        "  for individuals_ in population:\n",
        "    if individuals_.get_objective_values() == solution.get_objective_values():\n",
        "      flag = True\n",
        "  if not flag:\n",
        "    return solution\n",
        "  if flag:\n",
        "    return 0\n",
        "\n",
        "def analyze_set_differences(differences_set):\n",
        "  '''\n",
        "  input is a set of differences \n",
        "  '''\n",
        "  analyzed_results=[]\n",
        "  for item in differences_set:\n",
        "    res = [len(item[0]),analyze_result(item[0]), item[1], len(item[0])/item[1]]\n",
        "    analyzed_results.append(res)\n",
        "  return analyzed_results\n",
        "\n",
        "def extract_differences(solution_set):\n",
        "  '''\n",
        "  input is a set of solutions like archive or second_archive \n",
        "  the output a list ([list of differences as a result of re-execution],reward)\n",
        "  '''\n",
        "  differences = []\n",
        "  for dastan in solution_set:\n",
        "    reward = dastan.get_objective_values()[0]\n",
        "    differences.append([re_execution_improved_v2(model, env2,dastan),reward])\n",
        "  return differences\n",
        "  \n",
        "def get_results_distribution(results):\n",
        "  num_of_diff=[]\n",
        "  diff_confi = []\n",
        "  diff_ration = []\n",
        "  for item in results:\n",
        "    num_of_diff.append(item[0])\n",
        "    diff_confi.append(item[1])\n",
        "    diff_ration.append(item[3])\n",
        "  return num_of_diff, diff_confi, diff_ration\n"
      ]
    },
    {
      "cell_type": "code",
      "execution_count": 12,
      "metadata": {
        "colab": {
          "base_uri": "https://localhost:8080/"
        },
        "outputId": "78e5799e-b14d-4fea-caa4-66f95d387253",
        "id": "okQwuWnO0kIi"
      },
      "outputs": [
        {
          "output_type": "stream",
          "name": "stdout",
          "text": [
            "time: 40.8 ms (started: 2022-05-13 16:24:14 +00:00)\n"
          ]
        }
      ],
      "source": [
        "def random_test_1(model, env, Num):\n",
        "  obs=env.reset()\n",
        "  counter = 1\n",
        "  episode_reward = 0.0\n",
        "  for i in range(Num):\n",
        "    action, _ = model.predict(obs, deterministic=True)\n",
        "    obs, reward, done, info = env.step(action)\n",
        "    episode_reward += reward\n",
        "    if done:\n",
        "      counter += 1\n",
        "      end = i\n",
        "      print(\"Reward:\", episode_reward, \"final state\", info['mem'][-2][0])\n",
        "      episode_reward = 0.0\n",
        "      obs = env.reset()\n",
        "  iter = deepcopy(counter)\n",
        "  u=1\n",
        "  while iter>1:\n",
        "    if info['mem'][-u][0]=='done':\n",
        "      lastpoint = -u\n",
        "      iter -= 1\n",
        "    u+=1\n",
        "  fin =Num - end\n",
        "  start = -Num -counter\n",
        "  randomtest = info['mem'][lastpoint:-fin]\n",
        "  ran_state = info['state'][(-counter+1):-1]\n",
        "  return randomtest , ran_state\n",
        "\n",
        "\n",
        "def random_test_2(model, env, Num):\n",
        "  obs=env.reset()\n",
        "  counter = 1\n",
        "  episode_reward = 0.0\n",
        "  for i in range(Num):\n",
        "    action, _ = model.predict(obs, deterministic=True)\n",
        "    obs, reward, done, info = env.step(action)\n",
        "    episode_reward += reward\n",
        "    if done:\n",
        "      counter += 1\n",
        "      end = i\n",
        "      episode_reward = 0.0\n",
        "      obs = env.reset()\n",
        "  iter = deepcopy(counter)\n",
        "  u=1\n",
        "  while iter>1:\n",
        "    if info['mem'][-u][0]=='done':\n",
        "      lastpoint = -u\n",
        "      iter -= 1\n",
        "    u+=1\n",
        "  fin =Num - end\n",
        "  start = -Num -counter\n",
        "  randomtest = info['mem'][lastpoint:-fin]\n",
        "  ran_state = info['state'][(-counter+1):-1]\n",
        "  return randomtest , ran_state"
      ]
    },
    {
      "cell_type": "markdown",
      "metadata": {
        "id": "oZb4sR4v0kIj"
      },
      "source": [
        "##Model and Data"
      ]
    },
    {
      "cell_type": "code",
      "execution_count": 13,
      "metadata": {
        "colab": {
          "base_uri": "https://localhost:8080/",
          "height": 1000
        },
        "outputId": "e3733bab-bf7c-4d60-ef0d-9388e4665c6b",
        "id": "Nd6K6FS30kIj"
      },
      "outputs": [
        {
          "output_type": "stream",
          "name": "stdout",
          "text": [
            "WARNING:tensorflow:From /tensorflow-1.15.2/python3.7/stable_baselines/common/tf_util.py:85: The name tf.ConfigProto is deprecated. Please use tf.compat.v1.ConfigProto instead.\n",
            "\n",
            "WARNING:tensorflow:From /tensorflow-1.15.2/python3.7/stable_baselines/common/tf_util.py:94: The name tf.Session is deprecated. Please use tf.compat.v1.Session instead.\n",
            "\n",
            "WARNING:tensorflow:From /tensorflow-1.15.2/python3.7/stable_baselines/deepq/dqn.py:114: The name tf.train.AdamOptimizer is deprecated. Please use tf.compat.v1.train.AdamOptimizer instead.\n",
            "\n",
            "WARNING:tensorflow:From /tensorflow-1.15.2/python3.7/stable_baselines/deepq/build_graph.py:355: The name tf.variable_scope is deprecated. Please use tf.compat.v1.variable_scope instead.\n",
            "\n",
            "WARNING:tensorflow:From /tensorflow-1.15.2/python3.7/stable_baselines/deepq/build_graph.py:356: The name tf.placeholder is deprecated. Please use tf.compat.v1.placeholder instead.\n",
            "\n",
            "WARNING:tensorflow:From /tensorflow-1.15.2/python3.7/stable_baselines/deepq/build_graph.py:139: The name tf.get_variable is deprecated. Please use tf.compat.v1.get_variable instead.\n",
            "\n",
            "WARNING:tensorflow:From /tensorflow-1.15.2/python3.7/stable_baselines/common/input.py:26: to_float (from tensorflow.python.ops.math_ops) is deprecated and will be removed in a future version.\n",
            "Instructions for updating:\n",
            "Use `tf.cast` instead.\n",
            "WARNING:tensorflow:From /tensorflow-1.15.2/python3.7/stable_baselines/deepq/policies.py:107: flatten (from tensorflow.python.layers.core) is deprecated and will be removed in a future version.\n",
            "Instructions for updating:\n",
            "Use keras.layers.flatten instead.\n",
            "WARNING:tensorflow:From /tensorflow-1.15.2/python3.7/tensorflow_core/python/layers/core.py:332: Layer.apply (from tensorflow.python.keras.engine.base_layer) is deprecated and will be removed in a future version.\n",
            "Instructions for updating:\n",
            "Please use `layer.__call__` method instead.\n",
            "WARNING:tensorflow:From /tensorflow-1.15.2/python3.7/stable_baselines/deepq/build_graph.py:147: The name tf.random_uniform is deprecated. Please use tf.random.uniform instead.\n",
            "\n",
            "WARNING:tensorflow:From /tensorflow-1.15.2/python3.7/stable_baselines/deepq/build_graph.py:149: where (from tensorflow.python.ops.array_ops) is deprecated and will be removed in a future version.\n",
            "Instructions for updating:\n",
            "Use tf.where in 2.0, which has the same broadcast rule as np.where\n",
            "WARNING:tensorflow:From /tensorflow-1.15.2/python3.7/stable_baselines/deepq/build_graph.py:369: The name tf.get_collection is deprecated. Please use tf.compat.v1.get_collection instead.\n",
            "\n",
            "WARNING:tensorflow:From /tensorflow-1.15.2/python3.7/stable_baselines/deepq/build_graph.py:369: The name tf.GraphKeys is deprecated. Please use tf.compat.v1.GraphKeys instead.\n",
            "\n",
            "WARNING:tensorflow:From /tensorflow-1.15.2/python3.7/stable_baselines/deepq/build_graph.py:369: The name tf.get_variable_scope is deprecated. Please use tf.compat.v1.get_variable_scope instead.\n",
            "\n",
            "WARNING:tensorflow:From /tensorflow-1.15.2/python3.7/stable_baselines/deepq/build_graph.py:412: The name tf.summary.scalar is deprecated. Please use tf.compat.v1.summary.scalar instead.\n",
            "\n",
            "WARNING:tensorflow:From /tensorflow-1.15.2/python3.7/stable_baselines/deepq/build_graph.py:413: The name tf.summary.histogram is deprecated. Please use tf.compat.v1.summary.histogram instead.\n",
            "\n",
            "WARNING:tensorflow:From /tensorflow-1.15.2/python3.7/stable_baselines/deepq/build_graph.py:442: The name tf.summary.merge_all is deprecated. Please use tf.compat.v1.summary.merge_all instead.\n",
            "\n",
            "WARNING:tensorflow:From /tensorflow-1.15.2/python3.7/stable_baselines/a2c/utils.py:309: The name tf.trainable_variables is deprecated. Please use tf.compat.v1.trainable_variables instead.\n",
            "\n",
            "WARNING:tensorflow:From /tensorflow-1.15.2/python3.7/stable_baselines/common/tf_util.py:135: The name tf.global_variables is deprecated. Please use tf.compat.v1.global_variables instead.\n",
            "\n",
            "WARNING:tensorflow:From /tensorflow-1.15.2/python3.7/stable_baselines/common/tf_util.py:136: The name tf.variables_initializer is deprecated. Please use tf.compat.v1.variables_initializer instead.\n",
            "\n",
            "Loading a model without an environment, this model cannot be trained until it has a valid environment.\n",
            "********************** reporting the result of the model **************************\n",
            "The score for train data is 1.0\n",
            "The score for test data is 0.9928263988522238\n",
            "\n",
            "\n",
            "--------------------------------------recall---------------------------------\n",
            "the test recall for the class yes is 0.9807692307692307\n",
            "the test recall for the class no is 0.993798449612403\n",
            "the training recall for the class yes is 1.0\n",
            "the training recall for the class no is 1.0\n",
            "\n",
            "\n",
            "--------------------------------------precision------------------------------\n",
            "the test precision for the class yes is 0.9272727272727272\n",
            "the test precision for the class no is 0.9984423676012462\n",
            "the training precision for the class yes is 1.0\n",
            "the training precision for the class no is 1.0\n",
            "\n",
            "\n",
            "\n",
            "              precision    recall  f1-score   support\n",
            "\n",
            "         NO        1.00      0.99      1.00       645\n",
            "         yes       0.93      0.98      0.95        52\n",
            "\n",
            "    accuracy                           0.99       697\n",
            "   macro avg       0.96      0.99      0.97       697\n",
            "weighted avg       0.99      0.99      0.99       697\n",
            "\n",
            "\n",
            "\n",
            "specifity : 0.993798449612403\n",
            "\n",
            "\n",
            "--------------------------------------confusion----------------------------\n",
            "The confusion Matrix:\n",
            "[[641   4]\n",
            " [  1  51]]\n",
            "the accuracy score in 0.9928263988522238\n",
            "\n",
            "\n",
            "********************** plotting the confusion matrix & ROC curve **************************\n"
          ]
        },
        {
          "output_type": "stream",
          "name": "stderr",
          "text": [
            "/usr/local/lib/python3.7/dist-packages/sklearn/utils/deprecation.py:87: FutureWarning: Function plot_confusion_matrix is deprecated; Function `plot_confusion_matrix` is deprecated in 1.0 and will be removed in 1.2. Use one of the class methods: ConfusionMatrixDisplay.from_predictions or ConfusionMatrixDisplay.from_estimator.\n",
            "  warnings.warn(msg, category=FutureWarning)\n",
            "/usr/local/lib/python3.7/dist-packages/sklearn/utils/deprecation.py:87: FutureWarning: Function plot_roc_curve is deprecated; Function :func:`plot_roc_curve` is deprecated in 1.0 and will be removed in 1.2. Use one of the class methods: :meth:`sklearn.metric.RocCurveDisplay.from_predictions` or :meth:`sklearn.metric.RocCurveDisplay.from_estimator`.\n",
            "  warnings.warn(msg, category=FutureWarning)\n"
          ]
        },
        {
          "output_type": "display_data",
          "data": {
            "text/plain": [
              "<Figure size 432x288 with 2 Axes>"
            ],
            "image/png": "[encoded data removed]"
          },
          "metadata": {
            "needs_background": "light"
          }
        },
        {
          "output_type": "display_data",
          "data": {
            "text/plain": [
              "<Figure size 432x288 with 1 Axes>"
            ],
            "image/png": "[encoded data removed]"
          },
          "metadata": {
            "needs_background": "light"
          }
        },
        {
          "output_type": "stream",
          "name": "stdout",
          "text": [
            "********************** reporting the result of the model **************************\n",
            "The score for train data is 1.0\n",
            "The score for test data is 0.9670014347202296\n",
            "\n",
            "\n",
            "--------------------------------------recall---------------------------------\n",
            "the test recall for the class yes is 0.9578544061302682\n",
            "the test recall for the class no is 0.9724770642201835\n",
            "the training recall for the class yes is 1.0\n",
            "the training recall for the class no is 1.0\n",
            "\n",
            "\n",
            "--------------------------------------precision------------------------------\n",
            "the test precision for the class yes is 0.9541984732824428\n",
            "the test precision for the class no is 0.9747126436781609\n",
            "the training precision for the class yes is 1.0\n",
            "the training precision for the class no is 1.0\n",
            "\n",
            "\n",
            "\n",
            "              precision    recall  f1-score   support\n",
            "\n",
            "         NO        0.97      0.97      0.97       436\n",
            "         yes       0.95      0.96      0.96       261\n",
            "\n",
            "    accuracy                           0.97       697\n",
            "   macro avg       0.96      0.97      0.96       697\n",
            "weighted avg       0.97      0.97      0.97       697\n",
            "\n",
            "\n",
            "\n",
            "specifity : 0.9724770642201835\n",
            "\n",
            "\n",
            "--------------------------------------confusion----------------------------\n",
            "The confusion Matrix:\n",
            "[[424  12]\n",
            " [ 11 250]]\n",
            "the accuracy score in 0.9670014347202296\n",
            "\n",
            "\n",
            "********************** plotting the confusion matrix & ROC curve **************************\n"
          ]
        },
        {
          "output_type": "stream",
          "name": "stderr",
          "text": [
            "/usr/local/lib/python3.7/dist-packages/sklearn/utils/deprecation.py:87: FutureWarning: Function plot_confusion_matrix is deprecated; Function `plot_confusion_matrix` is deprecated in 1.0 and will be removed in 1.2. Use one of the class methods: ConfusionMatrixDisplay.from_predictions or ConfusionMatrixDisplay.from_estimator.\n",
            "  warnings.warn(msg, category=FutureWarning)\n",
            "/usr/local/lib/python3.7/dist-packages/sklearn/utils/deprecation.py:87: FutureWarning: Function plot_roc_curve is deprecated; Function :func:`plot_roc_curve` is deprecated in 1.0 and will be removed in 1.2. Use one of the class methods: :meth:`sklearn.metric.RocCurveDisplay.from_predictions` or :meth:`sklearn.metric.RocCurveDisplay.from_estimator`.\n",
            "  warnings.warn(msg, category=FutureWarning)\n"
          ]
        },
        {
          "output_type": "display_data",
          "data": {
            "text/plain": [
              "<Figure size 432x288 with 2 Axes>"
            ],
            "image/png": "[encoded data removed]"
          },
          "metadata": {
            "needs_background": "light"
          }
        },
        {
          "output_type": "display_data",
          "data": {
            "text/plain": [
              "<Figure size 432x288 with 1 Axes>"
            ],
            "image/png": "[encoded data removed]"
          },
          "metadata": {
            "needs_background": "light"
          }
        },
        {
          "output_type": "stream",
          "name": "stdout",
          "text": [
            "time: 2min 52s (started: 2022-05-13 16:24:14 +00:00)\n"
          ]
        }
      ],
      "source": [
        "#Address of the trained RL model \n",
        "Drive_model  =\"/content/drive/MyDrive/Data/dqn-cartpole-50000-with127-GA-Mut-2.pkl\"\n",
        "\n",
        "\n",
        "env2 = gym.make('CartPole-v1')\n",
        "env2 = StoreWrapper(env2)\n",
        "model = DQN('MlpPolicy',env=env2, verbose=1)\n",
        "model = model.load(Drive_model)\n",
        "#########################################################  Read DATA and Load Model #############\n",
        "\n",
        "ep = []\n",
        "buffer = []\n",
        "line = 0\n",
        "#Address of data of RL \n",
        "##changing the shape of the episodes when we are reading the data\n",
        "file = \"/content/drive/MyDrive/Data/dict_GA_Mut_10-09-2020.csv\"\n",
        "with open(file, 'r' ) as read_obj:\n",
        "    csv_reader = reader(read_obj)\n",
        "    for row in csv_reader:\n",
        "        if row[0] == 'done':\n",
        "          buffer.append([row[0],float(row[1])])\n",
        "          ep.append(buffer)\n",
        "          buffer = []\n",
        "          line+=1\n",
        "        else:\n",
        "          ro = row[0][1:-1]\n",
        "          r = [float(i) for i in ro.split()]\n",
        "          buffer.append([r,row[1]])\n",
        "\n",
        "\n",
        "\n",
        "######################################################### Read abstract classes #############\n",
        "# /content/drive/MyDrive/GM/Abstract_unique1_for_d=1.pickle\n",
        "# data of abstract classes\n",
        "\n",
        "Read_from_data = True\n",
        "d=1\n",
        "\n",
        "if Read_from_data:\n",
        "  with open(f'/content/drive/MyDrive/Data/Abstract_unique1_for_d=1.pickle', 'rb') as file2:\n",
        "      unique1 = pickle.load(file2)\n",
        "  uni1=np.array(unique1)\n",
        "  unique5 = unique1\n",
        "if not Read_from_data:\n",
        "  unique1,uni1 = Abstract_classes(ep,d,model)\n",
        "  unique5 = unique1\n",
        "\n",
        "\n",
        "epsilon = 0.05\n",
        "data1_x_b, data1_y_b, data1_y_f_b = ML_first_representation(d,epsilon,uni1,model,ep,unique1)\n",
        "\n",
        "#########################################################  Train ML -  Reward fault predictor  #############\n",
        "\n",
        "X_train_reward_fault, X_test_reward_fault, y_train_reward_fault, y_test_reward_fault = train_test_split(data1_x_b, data1_y_b, test_size=0.33, random_state=42)\n",
        "\n",
        "RF_RF_1rep = RandomForestClassifier(random_state=0, class_weight='balanced')\n",
        "RF_RF_1rep.fit(X_train_reward_fault,y_train_reward_fault)\n",
        "report(RF_RF_1rep,X_train_reward_fault,y_train_reward_fault,X_test_reward_fault,y_test_reward_fault)\n",
        "\n",
        "#########################################################  Train ML - Functional fault predictor #############\n",
        "\n",
        "\n",
        "X_train_f, X_test_f, y_train_f, y_test_f = train_test_split(data1_x_b, data1_y_f_b, test_size=0.33, random_state=42)\n",
        "RF_FF_1rep = RandomForestClassifier(random_state=0, class_weight='balanced')\n",
        "RF_FF_1rep.fit(X_train_f,y_train_f)\n",
        "report(RF_FF_1rep,X_train_f,y_train_f,X_test_f,y_test_f)\n",
        "\n",
        "\n",
        "\n"
      ]
    },
    {
      "cell_type": "markdown",
      "source": [
        "#RQ1 - Functions"
      ],
      "metadata": {
        "id": "Z-tait6Yqq5U"
      }
    },
    {
      "cell_type": "code",
      "source": [
        "def randomtestsubsample_wo(population,sample_size):\n",
        "  subSample= random.sample(population,sample_size)\n",
        "  randrewardfault = []\n",
        "  randfunctionalfault =[] \n",
        "  nonfaulty=[]\n",
        "  epsilon = 0.05\n",
        "  for ind_ in subSample:\n",
        "    last_state = ind_.get_candidate_values()[-2]\n",
        "    value_ = ind_.get_candidate_values()\n",
        "    if fitness_reward(value_)<70:\n",
        "      randrewardfault.append(ind_)\n",
        "    if abs(last_state[0][0])>(2.4-epsilon):\n",
        "      randfunctionalfault.append(ind_)\n",
        "    if fitness_reward(value_)>70 and abs(last_state[0][0])<(2.4-epsilon):\n",
        "      nonfaulty.append(ind_)\n",
        "  return len(randfunctionalfault)"
      ],
      "metadata": {
        "colab": {
          "base_uri": "https://localhost:8080/"
        },
        "outputId": "65e5583e-6f04-46a8-84db-44585765faf0",
        "id": "oSYRDGGmrWnF"
      },
      "execution_count": 14,
      "outputs": [
        {
          "output_type": "stream",
          "name": "stdout",
          "text": [
            "time: 8.22 ms (started: 2022-05-13 16:27:07 +00:00)\n"
          ]
        }
      ]
    },
    {
      "cell_type": "code",
      "source": [
        "def change_threshold(new_threshold,results):\n",
        "  return_set=[]\n",
        "  for re_exe in results:\n",
        "    episode = re_exe[3]\n",
        "    ff_prob = episode.get_objective_values()[2]\n",
        "    if ff_prob<=new_threshold:\n",
        "      return_set.append(re_exe)\n",
        "  return return_set\n"
      ],
      "metadata": {
        "colab": {
          "base_uri": "https://localhost:8080/"
        },
        "outputId": "d11bcda2-174e-4981-a1d0-5088e12023b8",
        "id": "SCiznkMYrWnF"
      },
      "execution_count": 15,
      "outputs": [
        {
          "output_type": "stream",
          "name": "stdout",
          "text": [
            "time: 4.38 ms (started: 2022-05-13 16:27:07 +00:00)\n"
          ]
        }
      ]
    },
    {
      "cell_type": "code",
      "source": [
        "def get_stat(pff, path_to_reexe):\n",
        "  items = os.listdir(path_to_reexe)\n",
        "  stat =[] \n",
        "  for re_exe in items:\n",
        "    final_consistent_ff = []\n",
        "    with open(f'{path_to_reexe}/{re_exe}', 'rb') as file2:\n",
        "        data = pickle.load(file2)\n",
        "    new_data = change_threshold(pff,data)\n",
        "    for result in new_data:\n",
        "      inconsistent, div , ff, episode =result\n",
        "      if ff:\n",
        "        if not inconsistent:\n",
        "          final_consistent_ff.append(result)\n",
        "    stat.append([len(final_consistent_ff),len(new_data)])\n",
        "  return stat"
      ],
      "metadata": {
        "colab": {
          "base_uri": "https://localhost:8080/"
        },
        "outputId": "b5161c3d-5e94-46a2-e65a-b4aef429062d",
        "id": "0fID_FZLrWnF"
      },
      "execution_count": 16,
      "outputs": [
        {
          "output_type": "stream",
          "name": "stdout",
          "text": [
            "time: 8.97 ms (started: 2022-05-13 16:27:07 +00:00)\n"
          ]
        }
      ]
    },
    {
      "cell_type": "code",
      "source": [
        "def prepair_random_data(stat, Mutation,initial_population_budget,iteration):\n",
        "  data_size = [stats[1] for stats in stat]\n",
        "  STARLA_stat = [stats[0] for stats in stat]\n",
        "  AVG_data_size = int(sum(data_size)/len(data_size))\n",
        "  comparision_size_scenario2 = AVG_data_size + Mutation + initial_population_budget\n",
        "  comparision_size_scenario1 = AVG_data_size + Mutation \n",
        "  print(\"comparision_size_scenario1\",comparision_size_scenario1)\n",
        "  print(\"comparision_size_scenario2\",comparision_size_scenario2)\n",
        "  random_dist_scenario1 =[]\n",
        "  random_dist_scenario2 =[]\n",
        "  for i in range(iteration):\n",
        "    # print(\"comparision_size_scenario1\",comparision_size_scenario1)\n",
        "    random_dist_scenario2.append(randomtestsubsample_wo(population_rand,comparision_size_scenario2))\n",
        "  for i in range(iteration):\n",
        "    # print(\"comparision_size_scenario2\",comparision_size_scenario2)\n",
        "    random_dist_scenario1.append(randomtestsubsample_wo(population_rand,comparision_size_scenario1))\n",
        "  return [random_dist_scenario1,random_dist_scenario2,STARLA_stat]"
      ],
      "metadata": {
        "colab": {
          "base_uri": "https://localhost:8080/"
        },
        "outputId": "646c7b1f-b36a-49dd-da22-ecf7c16bc88d",
        "id": "KQP_jdoxrWnG"
      },
      "execution_count": 17,
      "outputs": [
        {
          "output_type": "stream",
          "name": "stdout",
          "text": [
            "time: 14.6 ms (started: 2022-05-13 16:27:07 +00:00)\n"
          ]
        }
      ]
    },
    {
      "cell_type": "code",
      "source": [
        "with open(f'/content/drive/MyDrive/Data/random_test_Data_start_state.pickle', 'rb') as file2:\n",
        "    rt_start_state = pickle.load(file2)\n",
        "    \n",
        "with open(f'/content/drive/MyDrive/GM/random_test_Data.pickle', 'rb') as file2:\n",
        "    rt = pickle.load(file2)\n",
        "\n",
        "population_rand = []\n",
        "for i in range(len(rt)):\n",
        "  cd = Candidate(rt[i])\n",
        "  cd.set_start_state(rt_start_state[i])\n",
        "  population_rand.append(cd)\n",
        "\n",
        "\"\"\"\n",
        "with this commented code below you can create random test for comparision but\n",
        "it is time consuming and you need to make sure you have enough episodes for \n",
        "comparision; suggested minimum size of the the created episodes is 10k\n",
        "use the saved data of 40k random episodes\n",
        "\"\"\"\n",
        "\n",
        "\n",
        "# ee,qq=random_test_2(model,env2,1_500_000)  #create initial population with random test\n",
        "# test, teststate = fix_testing(ee,qq,env2)\n",
        "# print('len population',len(test))\n",
        "# population = []\n",
        "# for i in range(len(test)):\n",
        "#   cd = Candidate(test[i])\n",
        "#   cd.set_start_state(teststate[i])\n",
        "#   population.append(cd)"
      ],
      "metadata": {
        "colab": {
          "base_uri": "https://localhost:8080/",
          "height": 72
        },
        "id": "AnGFZo1mruwK",
        "outputId": "330ccdae-a4da-4e56-9a5b-4450f3007633"
      },
      "execution_count": 18,
      "outputs": [
        {
          "output_type": "execute_result",
          "data": {
            "text/plain": [
              "'\\nwith this commented code below you can create random test for comparision but\\nit is time consuming and you need to make sure you have enough episodes for \\ncomparision; suggested minimum size of the the created episodes is 10k\\nuse the saved data of 40k random episodes\\n'"
            ],
            "application/vnd.google.colaboratory.intrinsic+json": {
              "type": "string"
            }
          },
          "metadata": {},
          "execution_count": 18
        },
        {
          "output_type": "stream",
          "name": "stdout",
          "text": [
            "time: 1min 8s (started: 2022-05-13 16:27:07 +00:00)\n"
          ]
        }
      ]
    },
    {
      "cell_type": "code",
      "source": [
        "def prepair_random_data_with_initial_pop(stat, Mutation,initial_population_budget,iteration,avg_initial_faulty,population_random_data):\n",
        "  data_size = [stats[1] for stats in stat]\n",
        "  STARLA_stat = [stats[0] for stats in stat]\n",
        "  STARLA_stat_scenario2 = [stats[0]+avg_initial_faulty for stats in stat]\n",
        "  AVG_data_size = int(sum(data_size)/len(data_size))\n",
        "  comparision_size_scenario2 = AVG_data_size + Mutation + initial_population_budget\n",
        "  comparision_size_scenario1 = AVG_data_size + Mutation \n",
        "  print(\"comparision_size_scenario1\",comparision_size_scenario1)\n",
        "  print(\"comparision_size_scenario2\",comparision_size_scenario2)\n",
        "  random_dist_scenario1 =[]\n",
        "  random_dist_scenario2 =[]\n",
        "  for i in range(iteration):\n",
        "    random_dist_scenario2.append(randomtestsubsample_wo(population_random_data,comparision_size_scenario2))\n",
        "  for i in range(iteration):\n",
        "    random_dist_scenario1.append(randomtestsubsample_wo(population_random_data,comparision_size_scenario1))\n",
        "  return [random_dist_scenario1,random_dist_scenario2,STARLA_stat,STARLA_stat_scenario2]"
      ],
      "metadata": {
        "colab": {
          "base_uri": "https://localhost:8080/"
        },
        "id": "EfNmNunwvdoO",
        "outputId": "ddcccadf-15c6-4449-ed17-eb16d602695f"
      },
      "execution_count": 19,
      "outputs": [
        {
          "output_type": "stream",
          "name": "stdout",
          "text": [
            "time: 11.1 ms (started: 2022-05-13 16:28:16 +00:00)\n"
          ]
        }
      ]
    },
    {
      "cell_type": "code",
      "source": [
        "def Build_Archive(pop,no_of_Objectives,threshold_criteria, stored_data, initial_population):\n",
        "  '''\n",
        "  If you are using the Archive of all generated episodes, this function\n",
        "  removes the duplicated results and builds the Archive.\n",
        "  :param 'pop': current generation\n",
        "  :param 'no_of_Objectives': number of objectives\n",
        "  :param 'threshold_criteria': threshold criteria (we are intrested in episodes that have fitness below these threshold values)\n",
        "  :param 'stored_data': Archive of final episodes (return)\n",
        "  :param 'initial_population': initial population. we are not considering these episodes in our archive for the second senario you need to add the number of faults, (implementation in RQ3)\n",
        "  '''\n",
        "  threshold_criteria_to_add_to_archive = threshold_criteria\n",
        "# be careful as we can have different values for criterias here to add episodes to archive and for GA stopping criteria \n",
        "  for individual in pop:\n",
        "    individual_objective = individual.get_objective_values()\n",
        "    for i in range(no_of_Objectives):\n",
        "      if individual_objective[i]<threshold_criteria_to_add_to_archive[i]:\n",
        "        found = False\n",
        "        for j in range(len(stored_data)):\n",
        "          if individual_objective == stored_data[j].get_objective_values():\n",
        "            found = True\n",
        "            break\n",
        "        for k in range(len(initial_population)):\n",
        "          if individual_objective == initial_population[k].get_objective_values():\n",
        "            found = True\n",
        "            break\n",
        "        if not found:\n",
        "          ind_ = deepcopy(individual)\n",
        "          stored_data.append(ind_)"
      ],
      "metadata": {
        "colab": {
          "base_uri": "https://localhost:8080/"
        },
        "id": "rJns6VleBoCx",
        "outputId": "2e9dc2de-3685-4f0e-9f64-79d013c08320"
      },
      "execution_count": 20,
      "outputs": [
        {
          "output_type": "stream",
          "name": "stdout",
          "text": [
            "time: 10.5 ms (started: 2022-05-13 16:28:16 +00:00)\n"
          ]
        }
      ]
    },
    {
      "cell_type": "markdown",
      "source": [
        "#Run RQ1 - Functional fault"
      ],
      "metadata": {
        "id": "UN9QyZY3vd5_"
      }
    },
    {
      "cell_type": "code",
      "source": [
        "# extract the average of number of mutations\n",
        "with open(f'/content/drive/MyDrive/Data/mutation_numbers.pickle', 'rb') as file2:\n",
        "    Mutation_numbers = pickle.load(file2)\n",
        "\n",
        "Mutations = int(sum(Mutation_numbers)/len(Mutation_numbers))\n",
        "\n",
        "Mutation = Mutations   #number of the mutations performed during the search. it is stores in a seperate file  in our experiment avg=130\n",
        "initial_population_budget = 1500  \n",
        "iteration = 100  # number of the random subsamples \n",
        "\n",
        "###  read data and extract the number of functional faults \n",
        "\n",
        "items = os.listdir('/content/drive/MyDrive/Data/Results')\n",
        "thresholds = [70, 0.04, 0.50, 0.50]\n",
        "initial_pop_faults=[]\n",
        "for generations in items:\n",
        "  Functional_Fault_counter = 0\n",
        "  Reward_Fault_counter = 0\n",
        "  if generations=='res' or generations=='.ipynb_checkpoints':\n",
        "    continue\n",
        "  with open(f'/content/drive/MyDrive/Data/Results/{generations}', 'rb') as file2:\n",
        "      data = pickle.load(file2)\n",
        "  functionalfault=[]\n",
        "  for i in range(len(data)):\n",
        "    if i == 0:\n",
        "      initial_pop = data[i]\n",
        "      for ind_ in initial_pop:\n",
        "        value_ = ind_.get_candidate_values()\n",
        "        last_state = ind_.get_candidate_values()[-2]\n",
        "        if abs(last_state[0][0])>(2.4-epsilon):\n",
        "          Functional_Fault_counter+=1\n",
        "  initial_pop_faults.append(Functional_Fault_counter)"
      ],
      "metadata": {
        "colab": {
          "base_uri": "https://localhost:8080/"
        },
        "id": "_YC_IXKiKUvZ",
        "outputId": "a5eba1c9-7f3b-47f2-aac2-4d58ebf85ab6"
      },
      "execution_count": null,
      "outputs": [
        {
          "output_type": "stream",
          "name": "stdout",
          "text": [
            "time: 3min 32s (started: 2022-05-11 21:01:53 +00:00)\n"
          ]
        }
      ]
    },
    {
      "cell_type": "code",
      "source": [
        "ff_probability = 0.5   #threshold of the probability of the functional fault select 50% ->0.5 this is the inverse of probabilities 0.1 is 90%\n",
        "init_faulty_avg = int(sum(initial_pop_faults)/len(initial_pop_faults))\n",
        "path_to_files = '/content/drive/MyDrive/Data/Executions'\n",
        "\n",
        "\n",
        "plot_data = prepair_random_data_with_initial_pop(get_stat(ff_probability,path_to_files),\n",
        "                                                 Mutation,initial_population_budget,\n",
        "                                                 iteration,init_faulty_avg,population_rand)\n",
        "re_arrange = [plot_data[0],plot_data[2],plot_data[1],plot_data[3]]\n",
        "fig = plt.figure()\n",
        "ax = fig.add_axes([0, 0, 1, 1])\n",
        "bp = ax.boxplot(re_arrange)\n",
        "plt.xticks([1, 2, 3, 4], [\"Scenario1\",\"STARLA_S1\",\"Senario2\",\"STARLA_S2\"])\n",
        "plt.title('RQ1 - Comparision of number of functional faults')\n",
        "plt.show()\n"
      ],
      "metadata": {
        "colab": {
          "base_uri": "https://localhost:8080/",
          "height": 460
        },
        "id": "HXVi9eJ56JUz",
        "outputId": "88bb1c15-9a6f-47f3-f4de-6081a0d7e931"
      },
      "execution_count": null,
      "outputs": [
        {
          "output_type": "stream",
          "name": "stdout",
          "text": [
            "comparision_size_scenario1 5512\n",
            "comparision_size_scenario2 7012\n"
          ]
        },
        {
          "output_type": "stream",
          "name": "stderr",
          "text": [
            "/usr/local/lib/python3.7/dist-packages/matplotlib/cbook/__init__.py:1376: VisibleDeprecationWarning: Creating an ndarray from ragged nested sequences (which is a list-or-tuple of lists-or-tuples-or ndarrays with different lengths or shapes) is deprecated. If you meant to do this, you must specify 'dtype=object' when creating the ndarray.\n",
            "  X = np.atleast_1d(X.T if isinstance(X, np.ndarray) else np.asarray(X))\n"
          ]
        },
        {
          "output_type": "display_data",
          "data": {
            "text/plain": [
              "<Figure size 432x288 with 1 Axes>"
            ],
            "image/png": "[encoded data removed]"
          },
          "metadata": {
            "needs_background": "light"
          }
        },
        {
          "output_type": "stream",
          "name": "stdout",
          "text": [
            "time: 1min 41s (started: 2022-05-11 23:04:03 +00:00)\n"
          ]
        }
      ]
    },
    {
      "cell_type": "code",
      "source": [
        "for i in range(len(plot_data)):\n",
        "  print('Median of boxplot',i,'is:',statistics.median(plot_data[i]))"
      ],
      "metadata": {
        "colab": {
          "base_uri": "https://localhost:8080/"
        },
        "id": "noPXLmOQ-uiG",
        "outputId": "b141168e-44f9-4744-f92d-3c845e53577c"
      },
      "execution_count": null,
      "outputs": [
        {
          "output_type": "stream",
          "name": "stdout",
          "text": [
            "Median of boxplot 0 is: 1819.5\n",
            "Median of boxplot 1 is: 2315.0\n",
            "Median of boxplot 2 is: 2402.0\n",
            "Median of boxplot 3 is: 2892.0\n",
            "time: 3.06 ms (started: 2022-05-11 22:31:25 +00:00)\n"
          ]
        }
      ]
    },
    {
      "cell_type": "markdown",
      "source": [
        "#Run RQ1 - Reward fault "
      ],
      "metadata": {
        "id": "tIWYA_fu8xRn"
      }
    },
    {
      "cell_type": "code",
      "source": [
        "items = os.listdir('/content/drive/MyDrive/GM/execution4_gen')\n",
        "thresholds = [70, 0.04, 0.50, 0.50]\n",
        "reward_faults=[]\n",
        "for generations in items:\n",
        "  Reward_Fault_counter = 0\n",
        "  arch2=[]\n",
        "  if generations=='res' or generations=='.ipynb_checkpoints':\n",
        "    continue\n",
        "  with open(f'/content/drive/MyDrive/GM/execution4_gen/{generations}', 'rb') as file2:\n",
        "      data = pickle.load(file2)\n",
        "  for i in range(len(data)):\n",
        "    if i == 0:\n",
        "      continue\n",
        "    Build_Archive(data[i],4,thresholds,arch2,initial_pop)\n",
        "  for epis in arch2:\n",
        "    objectives_ = epis.get_objective_values()\n",
        "    if objectives_[0]<thresholds[0]:\n",
        "      Reward_Fault_counter+=1\n",
        "    \n",
        "  reward_faults.append(Reward_Fault_counter)"
      ],
      "metadata": {
        "colab": {
          "base_uri": "https://localhost:8080/"
        },
        "id": "H8jXGFSC8xyG",
        "outputId": "d18e8f65-2129-4f09-fc6c-4f25c27722dc"
      },
      "execution_count": null,
      "outputs": [
        {
          "output_type": "stream",
          "name": "stdout",
          "text": [
            "time: 15min 27s (started: 2022-05-11 21:33:55 +00:00)\n"
          ]
        }
      ]
    },
    {
      "cell_type": "code",
      "source": [
        "reward_faults"
      ],
      "metadata": {
        "colab": {
          "base_uri": "https://localhost:8080/"
        },
        "id": "MvtMNJ1lAdSR",
        "outputId": "315cbe03-6bae-4a2c-f560-78573e5c2426"
      },
      "execution_count": null,
      "outputs": [
        {
          "output_type": "execute_result",
          "data": {
            "text/plain": [
              "[133, 87, 100, 56, 104, 110, 94, 98, 97, 110, 82, 114, 85, 139]"
            ]
          },
          "metadata": {},
          "execution_count": 61
        },
        {
          "output_type": "stream",
          "name": "stdout",
          "text": [
            "time: 5.12 ms (started: 2022-05-11 21:49:23 +00:00)\n"
          ]
        }
      ]
    },
    {
      "cell_type": "code",
      "source": [
        "fig = plt.figure()\n",
        "ax = fig.add_axes([0, 0, 1, 1])\n",
        "bp = ax.boxplot(reward_faults)\n",
        "plt.xticks([1], [\"STARLA\"])\n",
        "plt.title('Number of generated Reward faults')\n",
        "plt.show()"
      ],
      "metadata": {
        "colab": {
          "base_uri": "https://localhost:8080/",
          "height": 369
        },
        "id": "eTgfl0yFAmHf",
        "outputId": "dd8d08af-3f9d-4eeb-e3d5-ef12fda52744"
      },
      "execution_count": null,
      "outputs": [
        {
          "output_type": "display_data",
          "data": {
            "text/plain": [
              "<Figure size 432x288 with 1 Axes>"
            ],
            "image/png": "[encoded data removed]"
          },
          "metadata": {
            "needs_background": "light"
          }
        },
        {
          "output_type": "stream",
          "name": "stdout",
          "text": [
            "time: 216 ms (started: 2022-05-11 23:03:22 +00:00)\n"
          ]
        }
      ]
    },
    {
      "cell_type": "code",
      "source": [
        "statistics.median(reward_faults)"
      ],
      "metadata": {
        "colab": {
          "base_uri": "https://localhost:8080/"
        },
        "id": "oOE4kCzQAp0x",
        "outputId": "8705dc1b-7319-4208-8c18-ba2ac3a094ea"
      },
      "execution_count": null,
      "outputs": [
        {
          "output_type": "execute_result",
          "data": {
            "text/plain": [
              "99.0"
            ]
          },
          "metadata": {},
          "execution_count": 63
        },
        {
          "output_type": "stream",
          "name": "stdout",
          "text": [
            "time: 4.68 ms (started: 2022-05-11 21:49:24 +00:00)\n"
          ]
        }
      ]
    },
    {
      "cell_type": "markdown",
      "source": [
        "#Mann-Whitney Test"
      ],
      "metadata": {
        "id": "7nnebtWBDlJv"
      }
    },
    {
      "cell_type": "code",
      "source": [
        "from scipy.stats import mannwhitneyu\n",
        "\n",
        "# Carrying out the Wilcoxon–Mann–Whitney test\n",
        "results = mannwhitneyu(plot_data[0], plot_data[2])\n",
        "print(\"The result of Mann–Whitney test, Scenario 1 : \", results)"
      ],
      "metadata": {
        "colab": {
          "base_uri": "https://localhost:8080/"
        },
        "outputId": "bb98f234-97cc-4f04-bfe5-aba873ae8239",
        "id": "n0381cm8DqLx"
      },
      "execution_count": null,
      "outputs": [
        {
          "output_type": "stream",
          "name": "stdout",
          "text": [
            "The result of Mann–Whitney test, Scenario 1 :  MannwhitneyuResult(statistic=0.0, pvalue=7.729892009699568e-10)\n",
            "time: 6.26 ms (started: 2022-05-11 22:33:04 +00:00)\n"
          ]
        }
      ]
    },
    {
      "cell_type": "code",
      "source": [
        "results2 = mannwhitneyu(plot_data[1], plot_data[3])\n",
        "print(\"The result of Mann–Whitney test, Scenario 1 : \", results2)\n"
      ],
      "metadata": {
        "colab": {
          "base_uri": "https://localhost:8080/"
        },
        "outputId": "bffb8089-8853-40d1-f096-e63cb2f6f8d2",
        "id": "bZeZFCjqDqLy"
      },
      "execution_count": null,
      "outputs": [
        {
          "output_type": "stream",
          "name": "stdout",
          "text": [
            "The result of Mann–Whitney test, Scenario 1 :  MannwhitneyuResult(statistic=0.0, pvalue=7.722863341747964e-10)\n",
            "time: 6.18 ms (started: 2022-05-11 22:33:05 +00:00)\n"
          ]
        }
      ]
    },
    {
      "cell_type": "markdown",
      "source": [
        "#Similarities"
      ],
      "metadata": {
        "id": "v2caYavSNRSv"
      }
    },
    {
      "cell_type": "code",
      "source": [
        "def change_threshold_in_similarity_data(new_threshold,results):\n",
        "  return_set=[]\n",
        "  for re_exe in results:\n",
        "    episode = re_exe[4]\n",
        "    ff_prob = episode.get_objective_values()[2]\n",
        "    if ff_prob<=new_threshold:\n",
        "      return_set.append(re_exe)\n",
        "  return return_set\n"
      ],
      "metadata": {
        "colab": {
          "base_uri": "https://localhost:8080/"
        },
        "id": "xuuMqREeQpDp",
        "outputId": "522239b4-ac3a-4540-9c72-ebe9b2edac78"
      },
      "execution_count": null,
      "outputs": [
        {
          "output_type": "stream",
          "name": "stdout",
          "text": [
            "time: 3.32 ms (started: 2022-05-11 22:36:23 +00:00)\n"
          ]
        }
      ]
    },
    {
      "cell_type": "code",
      "source": [
        "from scipy.spatial.distance import cosine,euclidean\n",
        "items = os.listdir('/content/drive/MyDrive/GM/res/re_executed_Similarity')\n",
        "stat =[] \n",
        "cc=[]\n",
        "pff = 0.5\n",
        "\n",
        "for re_exe in items[:]:\n",
        "  CosineDistance=[]\n",
        "  EuaclidianDistance=[]\n",
        "  final_consistent_ff = []\n",
        "  # print(\"\\n\\n-----------------------------------------------------\\n\\n\")\n",
        "  print(f'/content/drive/MyDrive/GM/res/re_executed_Similarity/{re_exe}')\n",
        "  with open(f'/content/drive/MyDrive/GM/res/re_executed_Similarity/{re_exe}', 'rb') as file2:\n",
        "      data = pickle.load(file2)\n",
        "  new_data = change_threshold_in_similarity_data(pff,data)\n",
        "  for result in new_data:\n",
        "    inconsistent, div , ff, states, episode =result\n",
        "    if ff:\n",
        "      if not inconsistent:\n",
        "        final_consistent_ff.append(result)\n",
        "        for st in states:\n",
        "          if cosine(st[0],st[1])>1.2:\n",
        "            break\n",
        "          CosineDistance.append(cosine(st[0],st[1]))\n",
        "          EuaclidianDistance.append(euclidean(st[0],st[1]))\n",
        "        for div_item in div:\n",
        "          cc.append(abs(div_item[1][0]-div_item[1][1]))\n",
        "  stat.append([CosineDistance,EuaclidianDistance])\n"
      ],
      "metadata": {
        "colab": {
          "base_uri": "https://localhost:8080/"
        },
        "outputId": "ae6305d0-6606-483d-fc10-1dcaf526fe8c",
        "id": "ai0o52cxNT0K"
      },
      "execution_count": null,
      "outputs": [
        {
          "output_type": "stream",
          "name": "stdout",
          "text": [
            "/content/drive/MyDrive/GM/res/re_executed_Similarity/re_executedCopy of March018_generations_r110_rt70_population1500lastfull_run1_2.pickle\n",
            "/content/drive/MyDrive/GM/res/re_executed_Similarity/re_executedCopy of March018_generations_r110_rt70_population1500lastfull_run1_3.pickle\n",
            "/content/drive/MyDrive/GM/res/re_executed_Similarity/re_executedCopy of March018_generations_r110_rt70_population1500lastfull_run0_4.pickle\n",
            "/content/drive/MyDrive/GM/res/re_executed_Similarity/re_executedCopy of March018_generations_r110_rt70_population1500lastfull_run1_1.pickle\n",
            "/content/drive/MyDrive/GM/res/re_executed_Similarity/re_executedCopy of March018_generations_r110_rt70_population1500lastfull_run1_7.pickle\n",
            "/content/drive/MyDrive/GM/res/re_executed_Similarity/re_executedCopy of March018_generations_r110_rt70_population1500lastfull_run1_8.pickle\n",
            "/content/drive/MyDrive/GM/res/re_executed_Similarity/re_executedCopy of March018_generations_r110_rt70_population1500lastfull_run1_5.pickle\n",
            "/content/drive/MyDrive/GM/res/re_executed_Similarity/re_executedCopy of March018_generations_r110_rt70_population1500lastfull_run1_0.pickle\n",
            "/content/drive/MyDrive/GM/res/re_executed_Similarity/re_executedCopy of March018_generations_r110_rt70_population1500lastfull_run1_6.pickle\n",
            "/content/drive/MyDrive/GM/res/re_executed_Similarity/re_executedCopy of March018_generations_r110_rt70_population1500lastfull_run1_4.pickle\n",
            "/content/drive/MyDrive/GM/res/re_executed_Similarity/re_executedCopy of March018_generations_r110_rt70_population1500lastfull_run0_1.pickle\n",
            "/content/drive/MyDrive/GM/res/re_executed_Similarity/re_executedCopy of March018_generations_r110_rt70_population1500lastfull_run0_2.pickle\n",
            "/content/drive/MyDrive/GM/res/re_executed_Similarity/re_executedCopy of March018_generations_r110_rt70_population1500lastfull_run0_0.pickle\n",
            "/content/drive/MyDrive/GM/res/re_executed_Similarity/re_executedCopy of March018_generations_r110_rt70_population1500lastfull_run0_3.pickle\n",
            "time: 3min 45s (started: 2022-05-11 22:44:05 +00:00)\n"
          ]
        }
      ]
    },
    {
      "cell_type": "code",
      "source": [
        "plt.hist(CosineDistance)\n",
        "plt.title('Cosine distance of one run')"
      ],
      "metadata": {
        "colab": {
          "base_uri": "https://localhost:8080/",
          "height": 316
        },
        "outputId": "e8bbbfda-8fe4-4c26-f7f7-14cb8c7f58ce",
        "id": "MnbgSWzONT0N"
      },
      "execution_count": null,
      "outputs": [
        {
          "output_type": "execute_result",
          "data": {
            "text/plain": [
              "Text(0.5, 1.0, 'Cosine distance of one run')"
            ]
          },
          "metadata": {},
          "execution_count": 115
        },
        {
          "output_type": "display_data",
          "data": {
            "text/plain": [
              "<Figure size 432x288 with 1 Axes>"
            ],
            "image/png": "[encoded data removed]"
          },
          "metadata": {
            "needs_background": "light"
          }
        },
        {
          "output_type": "stream",
          "name": "stdout",
          "text": [
            "time: 404 ms (started: 2022-05-11 23:06:14 +00:00)\n"
          ]
        }
      ]
    },
    {
      "cell_type": "code",
      "source": [
        "plt.hist(EuaclidianDistance)\n",
        "plt.title('Euclidian distance of one run')"
      ],
      "metadata": {
        "colab": {
          "base_uri": "https://localhost:8080/",
          "height": 316
        },
        "outputId": "b6f62fab-8491-4bee-92f6-b326a8034adc",
        "id": "FlYOAUkrNT0O"
      },
      "execution_count": null,
      "outputs": [
        {
          "output_type": "execute_result",
          "data": {
            "text/plain": [
              "Text(0.5, 1.0, 'Euclidian distance of one run')"
            ]
          },
          "metadata": {},
          "execution_count": 116
        },
        {
          "output_type": "display_data",
          "data": {
            "text/plain": [
              "<Figure size 432x288 with 1 Axes>"
            ],
            "image/png": "[encoded data removed]"
          },
          "metadata": {
            "needs_background": "light"
          }
        },
        {
          "output_type": "stream",
          "name": "stdout",
          "text": [
            "time: 448 ms (started: 2022-05-11 23:06:31 +00:00)\n"
          ]
        }
      ]
    },
    {
      "cell_type": "code",
      "source": [
        "plt.hist(stat[1])\n",
        "plt.title('comparision')"
      ],
      "metadata": {
        "colab": {
          "base_uri": "https://localhost:8080/",
          "height": 316
        },
        "id": "BB05Q1GuSYRK",
        "outputId": "93e86be2-ef06-445e-efe7-c663e84cddcc"
      },
      "execution_count": null,
      "outputs": [
        {
          "output_type": "execute_result",
          "data": {
            "text/plain": [
              "Text(0.5, 1.0, 'comparision')"
            ]
          },
          "metadata": {},
          "execution_count": 117
        },
        {
          "output_type": "display_data",
          "data": {
            "text/plain": [
              "<Figure size 432x288 with 1 Axes>"
            ],
            "image/png": "[encoded data removed]"
          },
          "metadata": {
            "needs_background": "light"
          }
        },
        {
          "output_type": "stream",
          "name": "stdout",
          "text": [
            "time: 645 ms (started: 2022-05-11 23:06:46 +00:00)\n"
          ]
        }
      ]
    },
    {
      "cell_type": "code",
      "source": [
        "cosine_distances = [item[0] for item in stat]\n",
        "euclidian_distances = [item[1] for item in stat]\n"
      ],
      "metadata": {
        "colab": {
          "base_uri": "https://localhost:8080/"
        },
        "id": "YYv6_QC-TX-Z",
        "outputId": "ab7fe6d2-5cc7-432f-b0dc-3b7278df38bd"
      },
      "execution_count": null,
      "outputs": [
        {
          "output_type": "stream",
          "name": "stdout",
          "text": [
            "time: 14.5 ms (started: 2022-05-11 22:59:49 +00:00)\n"
          ]
        }
      ]
    },
    {
      "cell_type": "code",
      "source": [
        "flatten_cosine_distances = [value for sublist in cosine_distances for value in sublist]\n",
        "flatten_euclidian_distances = [value for sublist in euclidian_distances for value in sublist]"
      ],
      "metadata": {
        "colab": {
          "base_uri": "https://localhost:8080/"
        },
        "id": "dXeTEguiT0gI",
        "outputId": "de622a18-3e38-4d7f-bd36-dfdd4a7fa9d0"
      },
      "execution_count": null,
      "outputs": [
        {
          "output_type": "stream",
          "name": "stdout",
          "text": [
            "time: 253 ms (started: 2022-05-11 22:59:50 +00:00)\n"
          ]
        }
      ]
    },
    {
      "cell_type": "code",
      "source": [
        "plt.hist(flatten_cosine_distances)\n",
        "plt.title('Cosine distances of replaced states in all runs of STARLA')"
      ],
      "metadata": {
        "colab": {
          "base_uri": "https://localhost:8080/",
          "height": 316
        },
        "id": "MNWcoYqoUTe-",
        "outputId": "061eb44e-04f0-4cc5-80fe-9efee9fe3287"
      },
      "execution_count": null,
      "outputs": [
        {
          "output_type": "execute_result",
          "data": {
            "text/plain": [
              "Text(0.5, 1.0, 'Cosine distances of replaced states in all runs of STARLA')"
            ]
          },
          "metadata": {},
          "execution_count": 118
        },
        {
          "output_type": "display_data",
          "data": {
            "text/plain": [
              "<Figure size 432x288 with 1 Axes>"
            ],
            "image/png": "[encoded data removed]"
          },
          "metadata": {
            "needs_background": "light"
          }
        },
        {
          "output_type": "stream",
          "name": "stdout",
          "text": [
            "time: 1.01 s (started: 2022-05-11 23:07:26 +00:00)\n"
          ]
        }
      ]
    },
    {
      "cell_type": "code",
      "source": [
        "plt.hist(flatten_euclidian_distances)\n",
        "plt.title('Euclidian distances of replaced states in all runs of STARLA')\n"
      ],
      "metadata": {
        "colab": {
          "base_uri": "https://localhost:8080/",
          "height": 316
        },
        "id": "mElwyxMjWdyP",
        "outputId": "b9f806f4-268f-48f9-a130-15a020459419"
      },
      "execution_count": null,
      "outputs": [
        {
          "output_type": "execute_result",
          "data": {
            "text/plain": [
              "Text(0.5, 1.0, 'Euclidian distances of replaced states in all runs of STARLA')"
            ]
          },
          "metadata": {},
          "execution_count": 119
        },
        {
          "output_type": "display_data",
          "data": {
            "text/plain": [
              "<Figure size 432x288 with 1 Axes>"
            ],
            "image/png": "[encoded data removed]"
          },
          "metadata": {
            "needs_background": "light"
          }
        },
        {
          "output_type": "stream",
          "name": "stdout",
          "text": [
            "time: 909 ms (started: 2022-05-11 23:07:40 +00:00)\n"
          ]
        }
      ]
    },
    {
      "cell_type": "code",
      "source": [
        "count = 0 \n",
        "\n",
        "for i in flatten_cosine_distances:\n",
        "  if i<0.25:\n",
        "    count+=1\n",
        "\n",
        "print(\"More than \",count/len(flatten_cosine_distances),\"% of replaced states have a cosine distance below 0.25\")"
      ],
      "metadata": {
        "colab": {
          "base_uri": "https://localhost:8080/"
        },
        "id": "Um5trL1OUYDN",
        "outputId": "40f69d19-21e9-45bd-cbd6-7d52060da058"
      },
      "execution_count": null,
      "outputs": [
        {
          "output_type": "stream",
          "name": "stdout",
          "text": [
            "More than  0.9509584369413903 % of replaced states have a cosine distance below 0.25\n",
            "time: 575 ms (started: 2022-05-11 23:01:46 +00:00)\n"
          ]
        }
      ]
    },
    {
      "cell_type": "code",
      "source": [
        "plt.hist(cc)\n",
        "plt.title('Confidence level - all runs of STARLA')\n"
      ],
      "metadata": {
        "colab": {
          "base_uri": "https://localhost:8080/",
          "height": 316
        },
        "outputId": "ffaeefa7-900a-41de-b31a-1c660084339c",
        "id": "Jeiqt-tuNT0P"
      },
      "execution_count": null,
      "outputs": [
        {
          "output_type": "execute_result",
          "data": {
            "text/plain": [
              "Text(0.5, 1.0, 'Confidence level - all runs of STARLA')"
            ]
          },
          "metadata": {},
          "execution_count": 121
        },
        {
          "output_type": "display_data",
          "data": {
            "text/plain": [
              "<Figure size 432x288 with 1 Axes>"
            ],
            "image/png": "[encoded data removed]"
          },
          "metadata": {
            "needs_background": "light"
          }
        },
        {
          "output_type": "stream",
          "name": "stdout",
          "text": [
            "time: 1.03 s (started: 2022-05-11 23:08:31 +00:00)\n"
          ]
        }
      ]
    },
    {
      "cell_type": "markdown",
      "source": [
        "#RQ1 - Functional fault - Analysis of different thresholds of probabilities of functional faults"
      ],
      "metadata": {
        "id": "QOurnkoYzXmU"
      }
    },
    {
      "cell_type": "code",
      "source": [
        "# extract the average of number of mutations\n",
        "with open(f'/content/drive/MyDrive/Data/mutation_numbers.pickle', 'rb') as file2:\n",
        "    Mutation_numbers = pickle.load(file2)\n",
        "\n",
        "Mutations = int(sum(Mutation_numbers)/len(Mutation_numbers))\n",
        "\n",
        "Mutation = Mutations   #number of the mutations performed during the search. it is stores in a seperate file  in our experiment avg=130\n",
        "initial_population_budget = 1500  \n",
        "iteration = 100  # number of the random subsamples \n",
        "\n",
        "###  read data and extract the number of functional faults \n",
        "\n",
        "items = os.listdir('/content/drive/MyDrive/Data/Results')\n",
        "thresholds = [70, 0.04, 0.50, 0.50]\n",
        "initial_pop_faults=[]\n",
        "for generations in items:\n",
        "  Functional_Fault_counter = 0\n",
        "  Reward_Fault_counter = 0\n",
        "  if generations=='res' or generations=='.ipynb_checkpoints':\n",
        "    continue\n",
        "  with open(f'/content/drive/MyDrive/Data/Results/{generations}', 'rb') as file2:\n",
        "      data = pickle.load(file2)\n",
        "  functionalfault=[]\n",
        "  for i in range(len(data)):\n",
        "    if i == 0:\n",
        "      initial_pop = data[i]\n",
        "      for ind_ in initial_pop:\n",
        "        value_ = ind_.get_candidate_values()\n",
        "        last_state = ind_.get_candidate_values()[-2]\n",
        "        if abs(last_state[0][0])>(2.4-epsilon):\n",
        "          Functional_Fault_counter+=1\n",
        "  initial_pop_faults.append(Functional_Fault_counter)"
      ],
      "metadata": {
        "colab": {
          "base_uri": "https://localhost:8080/"
        },
        "outputId": "0982bf43-adaa-4877-afeb-9f390490a23f",
        "id": "CiW8cT51QKh6"
      },
      "execution_count": 21,
      "outputs": [
        {
          "output_type": "stream",
          "name": "stdout",
          "text": [
            "time: 3min 49s (started: 2022-05-13 16:29:17 +00:00)\n"
          ]
        }
      ]
    },
    {
      "cell_type": "code",
      "source": [
        "ff_probability = 0.45   #threshold of the probability of the functional fault select 55% ->0.45 this is the inverse of probabilities 0.1 is 90%\n",
        "init_faulty_avg = int(sum(initial_pop_faults)/len(initial_pop_faults))\n",
        "path_to_files = '/content/drive/MyDrive/Data/Executions'\n",
        "\n",
        "\n",
        "plot_data = prepair_random_data_with_initial_pop(get_stat(ff_probability,path_to_files),\n",
        "                                                 Mutation,initial_population_budget,\n",
        "                                                 iteration,init_faulty_avg,population_rand)\n",
        "re_arrange = [plot_data[0],plot_data[2],plot_data[1],plot_data[3]]\n",
        "fig = plt.figure()\n",
        "ax = fig.add_axes([0, 0, 1, 1])\n",
        "bp = ax.boxplot(re_arrange)\n",
        "plt.xticks([1, 2, 3, 4], [\"Scenario1\",\"STARLA_S1\",\"Senario2\",\"STARLA_S2\"])\n",
        "plt.title('RQ1 - Comparision of number of functional faults')\n",
        "plt.show()"
      ],
      "metadata": {
        "colab": {
          "base_uri": "https://localhost:8080/",
          "height": 464
        },
        "id": "6BGzWkAJ1Jfw",
        "outputId": "e651d7b2-5190-4e7d-e9f7-aa6e120d7949"
      },
      "execution_count": 22,
      "outputs": [
        {
          "output_type": "stream",
          "name": "stdout",
          "text": [
            "comparision_size_scenario1 5321\n",
            "comparision_size_scenario2 6821\n"
          ]
        },
        {
          "output_type": "stream",
          "name": "stderr",
          "text": [
            "/usr/local/lib/python3.7/dist-packages/matplotlib/cbook/__init__.py:1376: VisibleDeprecationWarning: Creating an ndarray from ragged nested sequences (which is a list-or-tuple of lists-or-tuples-or ndarrays with different lengths or shapes) is deprecated. If you meant to do this, you must specify 'dtype=object' when creating the ndarray.\n",
            "  X = np.atleast_1d(X.T if isinstance(X, np.ndarray) else np.asarray(X))\n"
          ]
        },
        {
          "output_type": "display_data",
          "data": {
            "text/plain": [
              "<Figure size 432x288 with 1 Axes>"
            ],
            "image/png": "[encoded data removed]"
          },
          "metadata": {
            "needs_background": "light"
          }
        },
        {
          "output_type": "stream",
          "name": "stdout",
          "text": [
            "time: 2min 14s (started: 2022-05-13 17:40:40 +00:00)\n"
          ]
        }
      ]
    },
    {
      "cell_type": "code",
      "execution_count": 23,
      "metadata": {
        "colab": {
          "base_uri": "https://localhost:8080/",
          "height": 464
        },
        "outputId": "176bbebe-e4fd-4c26-810f-f27d99f543e5",
        "id": "7DcqYKvextU5"
      },
      "outputs": [
        {
          "output_type": "stream",
          "name": "stdout",
          "text": [
            "comparision_size_scenario1 5065\n",
            "comparision_size_scenario2 6565\n"
          ]
        },
        {
          "output_type": "stream",
          "name": "stderr",
          "text": [
            "/usr/local/lib/python3.7/dist-packages/matplotlib/cbook/__init__.py:1376: VisibleDeprecationWarning: Creating an ndarray from ragged nested sequences (which is a list-or-tuple of lists-or-tuples-or ndarrays with different lengths or shapes) is deprecated. If you meant to do this, you must specify 'dtype=object' when creating the ndarray.\n",
            "  X = np.atleast_1d(X.T if isinstance(X, np.ndarray) else np.asarray(X))\n"
          ]
        },
        {
          "output_type": "display_data",
          "data": {
            "text/plain": [
              "<Figure size 432x288 with 1 Axes>"
            ],
            "image/png": "[encoded data removed]"
          },
          "metadata": {
            "needs_background": "light"
          }
        },
        {
          "output_type": "stream",
          "name": "stdout",
          "text": [
            "time: 2min 15s (started: 2022-05-13 17:43:05 +00:00)\n"
          ]
        }
      ],
      "source": [
        "ff_probability = 0.40   #threshold of the probability of the functional fault select 60% ->0.4 this is the inverse of probabilities 0.1 is 90%\n",
        "init_faulty_avg = int(sum(initial_pop_faults)/len(initial_pop_faults))\n",
        "path_to_files = '/content/drive/MyDrive/Data/Executions'\n",
        "\n",
        "\n",
        "plot_data = prepair_random_data_with_initial_pop(get_stat(ff_probability,path_to_files),\n",
        "                                                 Mutation,initial_population_budget,\n",
        "                                                 iteration,init_faulty_avg,population_rand)\n",
        "re_arrange = [plot_data[0],plot_data[2],plot_data[1],plot_data[3]]\n",
        "fig = plt.figure()\n",
        "ax = fig.add_axes([0, 0, 1, 1])\n",
        "bp = ax.boxplot(re_arrange)\n",
        "plt.xticks([1, 2, 3, 4], [\"Scenario1\",\"STARLA_S1\",\"Senario2\",\"STARLA_S2\"])\n",
        "plt.title('RQ1 - Comparision of number of functional faults')\n",
        "plt.show()"
      ]
    },
    {
      "cell_type": "code",
      "source": [
        "ff_probability = 0.35   #threshold of the probability of the functional fault select 65% ->0.35 this is the inverse of probabilities 0.1 is 90%\n",
        "init_faulty_avg = int(sum(initial_pop_faults)/len(initial_pop_faults))\n",
        "path_to_files = '/content/drive/MyDrive/Data/Executions'\n",
        "\n",
        "\n",
        "plot_data = prepair_random_data_with_initial_pop(get_stat(ff_probability,path_to_files),\n",
        "                                                 Mutation,initial_population_budget,\n",
        "                                                 iteration,init_faulty_avg,population_rand)\n",
        "re_arrange = [plot_data[0],plot_data[2],plot_data[1],plot_data[3]]\n",
        "fig = plt.figure()\n",
        "ax = fig.add_axes([0, 0, 1, 1])\n",
        "bp = ax.boxplot(re_arrange)\n",
        "plt.xticks([1, 2, 3, 4], [\"Scenario1\",\"STARLA_S1\",\"Senario2\",\"STARLA_S2\"])\n",
        "plt.title('RQ1 - Comparision of number of functional faults')\n",
        "plt.show()"
      ],
      "metadata": {
        "colab": {
          "base_uri": "https://localhost:8080/",
          "height": 464
        },
        "id": "ITquLkVe2l0G",
        "outputId": "853b9574-f981-4e54-b862-ee742a7c5cd5"
      },
      "execution_count": 24,
      "outputs": [
        {
          "output_type": "stream",
          "name": "stdout",
          "text": [
            "comparision_size_scenario1 4766\n",
            "comparision_size_scenario2 6266\n"
          ]
        },
        {
          "output_type": "stream",
          "name": "stderr",
          "text": [
            "/usr/local/lib/python3.7/dist-packages/matplotlib/cbook/__init__.py:1376: VisibleDeprecationWarning: Creating an ndarray from ragged nested sequences (which is a list-or-tuple of lists-or-tuples-or ndarrays with different lengths or shapes) is deprecated. If you meant to do this, you must specify 'dtype=object' when creating the ndarray.\n",
            "  X = np.atleast_1d(X.T if isinstance(X, np.ndarray) else np.asarray(X))\n"
          ]
        },
        {
          "output_type": "display_data",
          "data": {
            "text/plain": [
              "<Figure size 432x288 with 1 Axes>"
            ],
            "image/png": "[encoded data removed]"
          },
          "metadata": {
            "needs_background": "light"
          }
        },
        {
          "output_type": "stream",
          "name": "stdout",
          "text": [
            "time: 1min 51s (started: 2022-05-13 17:45:20 +00:00)\n"
          ]
        }
      ]
    },
    {
      "cell_type": "code",
      "source": [
        "ff_probability = 0.30   #threshold of the probability of the functional fault select 70% ->0.3 this is the inverse of probabilities 0.1 is 90%\n",
        "init_faulty_avg = int(sum(initial_pop_faults)/len(initial_pop_faults))\n",
        "path_to_files = '/content/drive/MyDrive/Data/Executions'\n",
        "\n",
        "\n",
        "plot_data = prepair_random_data_with_initial_pop(get_stat(ff_probability,path_to_files),\n",
        "                                                 Mutation,initial_population_budget,\n",
        "                                                 iteration,init_faulty_avg,population_rand)\n",
        "re_arrange = [plot_data[0],plot_data[2],plot_data[1],plot_data[3]]\n",
        "fig = plt.figure()\n",
        "ax = fig.add_axes([0, 0, 1, 1])\n",
        "bp = ax.boxplot(re_arrange)\n",
        "plt.xticks([1, 2, 3, 4], [\"Scenario1\",\"STARLA_S1\",\"Senario2\",\"STARLA_S2\"])\n",
        "plt.title('RQ1 - Comparision of number of functional faults')\n",
        "plt.show()"
      ],
      "metadata": {
        "colab": {
          "base_uri": "https://localhost:8080/",
          "height": 464
        },
        "id": "o3KT0E6r3b9L",
        "outputId": "ff854db0-ad86-4016-c445-8b23f4137064"
      },
      "execution_count": 25,
      "outputs": [
        {
          "output_type": "stream",
          "name": "stdout",
          "text": [
            "comparision_size_scenario1 4411\n",
            "comparision_size_scenario2 5911\n"
          ]
        },
        {
          "output_type": "stream",
          "name": "stderr",
          "text": [
            "/usr/local/lib/python3.7/dist-packages/matplotlib/cbook/__init__.py:1376: VisibleDeprecationWarning: Creating an ndarray from ragged nested sequences (which is a list-or-tuple of lists-or-tuples-or ndarrays with different lengths or shapes) is deprecated. If you meant to do this, you must specify 'dtype=object' when creating the ndarray.\n",
            "  X = np.atleast_1d(X.T if isinstance(X, np.ndarray) else np.asarray(X))\n"
          ]
        },
        {
          "output_type": "display_data",
          "data": {
            "text/plain": [
              "<Figure size 432x288 with 1 Axes>"
            ],
            "image/png": "[encoded data removed]"
          },
          "metadata": {
            "needs_background": "light"
          }
        },
        {
          "output_type": "stream",
          "name": "stdout",
          "text": [
            "time: 1min 29s (started: 2022-05-13 17:47:12 +00:00)\n"
          ]
        }
      ]
    },
    {
      "cell_type": "code",
      "source": [
        "ff_probability = 0.25   #threshold of the probability of the functional fault select 75% ->0.25 this is the inverse of probabilities 0.1 is 90%\n",
        "init_faulty_avg = int(sum(initial_pop_faults)/len(initial_pop_faults))\n",
        "path_to_files = '/content/drive/MyDrive/Data/Executions'\n",
        "\n",
        "\n",
        "plot_data = prepair_random_data_with_initial_pop(get_stat(ff_probability,path_to_files),\n",
        "                                                 Mutation,initial_population_budget,\n",
        "                                                 iteration,init_faulty_avg,population_rand)\n",
        "re_arrange = [plot_data[0],plot_data[2],plot_data[1],plot_data[3]]\n",
        "fig = plt.figure()\n",
        "ax = fig.add_axes([0, 0, 1, 1])\n",
        "bp = ax.boxplot(re_arrange)\n",
        "plt.xticks([1, 2, 3, 4], [\"Scenario1\",\"STARLA_S1\",\"Senario2\",\"STARLA_S2\"])\n",
        "plt.title('RQ1 - Comparision of number of functional faults')\n",
        "plt.show()"
      ],
      "metadata": {
        "colab": {
          "base_uri": "https://localhost:8080/",
          "height": 464
        },
        "id": "7wG4l9DG3mQw",
        "outputId": "d2ebd5d4-f35a-449d-f485-90a9c3300cc3"
      },
      "execution_count": 26,
      "outputs": [
        {
          "output_type": "stream",
          "name": "stdout",
          "text": [
            "comparision_size_scenario1 3922\n",
            "comparision_size_scenario2 5422\n"
          ]
        },
        {
          "output_type": "stream",
          "name": "stderr",
          "text": [
            "/usr/local/lib/python3.7/dist-packages/matplotlib/cbook/__init__.py:1376: VisibleDeprecationWarning: Creating an ndarray from ragged nested sequences (which is a list-or-tuple of lists-or-tuples-or ndarrays with different lengths or shapes) is deprecated. If you meant to do this, you must specify 'dtype=object' when creating the ndarray.\n",
            "  X = np.atleast_1d(X.T if isinstance(X, np.ndarray) else np.asarray(X))\n"
          ]
        },
        {
          "output_type": "display_data",
          "data": {
            "text/plain": [
              "<Figure size 432x288 with 1 Axes>"
            ],
            "image/png": "[encoded data removed]"
          },
          "metadata": {
            "needs_background": "light"
          }
        },
        {
          "output_type": "stream",
          "name": "stdout",
          "text": [
            "time: 1min 26s (started: 2022-05-13 17:48:42 +00:00)\n"
          ]
        }
      ]
    },
    {
      "cell_type": "code",
      "source": [
        "ff_probability = 0.20   #threshold of the probability of the functional fault select 80% ->0.20 this is the inverse of probabilities 0.1 is 90%\n",
        "init_faulty_avg = int(sum(initial_pop_faults)/len(initial_pop_faults))\n",
        "path_to_files = '/content/drive/MyDrive/Data/Executions'\n",
        "\n",
        "\n",
        "plot_data = prepair_random_data_with_initial_pop(get_stat(ff_probability,path_to_files),\n",
        "                                                 Mutation,initial_population_budget,\n",
        "                                                 iteration,init_faulty_avg,population_rand)\n",
        "re_arrange = [plot_data[0],plot_data[2],plot_data[1],plot_data[3]]\n",
        "fig = plt.figure()\n",
        "ax = fig.add_axes([0, 0, 1, 1])\n",
        "bp = ax.boxplot(re_arrange)\n",
        "plt.xticks([1, 2, 3, 4], [\"Scenario1\",\"STARLA_S1\",\"Senario2\",\"STARLA_S2\"])\n",
        "plt.title('RQ1 - Comparision of number of functional faults')\n",
        "plt.show()"
      ],
      "metadata": {
        "colab": {
          "base_uri": "https://localhost:8080/",
          "height": 464
        },
        "id": "C7CGN_In3oWj",
        "outputId": "feca6643-a9e2-4333-b21b-92b3bb2f788c"
      },
      "execution_count": 27,
      "outputs": [
        {
          "output_type": "stream",
          "name": "stdout",
          "text": [
            "comparision_size_scenario1 3292\n",
            "comparision_size_scenario2 4792\n"
          ]
        },
        {
          "output_type": "stream",
          "name": "stderr",
          "text": [
            "/usr/local/lib/python3.7/dist-packages/matplotlib/cbook/__init__.py:1376: VisibleDeprecationWarning: Creating an ndarray from ragged nested sequences (which is a list-or-tuple of lists-or-tuples-or ndarrays with different lengths or shapes) is deprecated. If you meant to do this, you must specify 'dtype=object' when creating the ndarray.\n",
            "  X = np.atleast_1d(X.T if isinstance(X, np.ndarray) else np.asarray(X))\n"
          ]
        },
        {
          "output_type": "display_data",
          "data": {
            "text/plain": [
              "<Figure size 432x288 with 1 Axes>"
            ],
            "image/png": "[encoded data removed]"
          },
          "metadata": {
            "needs_background": "light"
          }
        },
        {
          "output_type": "stream",
          "name": "stdout",
          "text": [
            "time: 1min 32s (started: 2022-05-13 17:50:08 +00:00)\n"
          ]
        }
      ]
    },
    {
      "cell_type": "code",
      "source": [
        "ff_probability = 0.15   #threshold of the probability of the functional fault select 85% ->0.15 this is the inverse of probabilities 0.1 is 90%\n",
        "init_faulty_avg = int(sum(initial_pop_faults)/len(initial_pop_faults))\n",
        "path_to_files = '/content/drive/MyDrive/Data/Executions'\n",
        "\n",
        "\n",
        "plot_data = prepair_random_data_with_initial_pop(get_stat(ff_probability,path_to_files),\n",
        "                                                 Mutation,initial_population_budget,\n",
        "                                                 iteration,init_faulty_avg,population_rand)\n",
        "re_arrange = [plot_data[0],plot_data[2],plot_data[1],plot_data[3]]\n",
        "fig = plt.figure()\n",
        "ax = fig.add_axes([0, 0, 1, 1])\n",
        "bp = ax.boxplot(re_arrange)\n",
        "plt.xticks([1, 2, 3, 4], [\"Scenario1\",\"STARLA_S1\",\"Senario2\",\"STARLA_S2\"])\n",
        "plt.title('RQ1 - Comparision of number of functional faults')\n",
        "plt.show()"
      ],
      "metadata": {
        "colab": {
          "base_uri": "https://localhost:8080/",
          "height": 464
        },
        "id": "dUHtKkCn3pgn",
        "outputId": "94ceb8a5-348b-46b9-9701-6bcdca877b2a"
      },
      "execution_count": 28,
      "outputs": [
        {
          "output_type": "stream",
          "name": "stdout",
          "text": [
            "comparision_size_scenario1 2439\n",
            "comparision_size_scenario2 3939\n"
          ]
        },
        {
          "output_type": "stream",
          "name": "stderr",
          "text": [
            "/usr/local/lib/python3.7/dist-packages/matplotlib/cbook/__init__.py:1376: VisibleDeprecationWarning: Creating an ndarray from ragged nested sequences (which is a list-or-tuple of lists-or-tuples-or ndarrays with different lengths or shapes) is deprecated. If you meant to do this, you must specify 'dtype=object' when creating the ndarray.\n",
            "  X = np.atleast_1d(X.T if isinstance(X, np.ndarray) else np.asarray(X))\n"
          ]
        },
        {
          "output_type": "display_data",
          "data": {
            "text/plain": [
              "<Figure size 432x288 with 1 Axes>"
            ],
            "image/png": "[encoded data removed]"
          },
          "metadata": {
            "needs_background": "light"
          }
        },
        {
          "output_type": "stream",
          "name": "stdout",
          "text": [
            "time: 1min 33s (started: 2022-05-13 17:51:41 +00:00)\n"
          ]
        }
      ]
    },
    {
      "cell_type": "code",
      "source": [
        "ff_probability = 0.10   #threshold of the probability of the functional fault select 90% ->0.10 this is the inverse of probabilities 0.1 is 90%\n",
        "init_faulty_avg = int(sum(initial_pop_faults)/len(initial_pop_faults))\n",
        "path_to_files = '/content/drive/MyDrive/Data/Executions'\n",
        "\n",
        "\n",
        "plot_data = prepair_random_data_with_initial_pop(get_stat(ff_probability,path_to_files),\n",
        "                                                 Mutation,initial_population_budget,\n",
        "                                                 iteration,init_faulty_avg,population_rand)\n",
        "re_arrange = [plot_data[0],plot_data[2],plot_data[1],plot_data[3]]\n",
        "fig = plt.figure()\n",
        "ax = fig.add_axes([0, 0, 1, 1])\n",
        "bp = ax.boxplot(re_arrange)\n",
        "plt.xticks([1, 2, 3, 4], [\"Scenario1\",\"STARLA_S1\",\"Senario2\",\"STARLA_S2\"])\n",
        "plt.title('RQ1 - Comparision of number of functional faults')\n",
        "plt.show()"
      ],
      "metadata": {
        "colab": {
          "base_uri": "https://localhost:8080/",
          "height": 464
        },
        "id": "Z8fbMYmN39nd",
        "outputId": "962d9a9e-129e-402a-f9a6-2d9ba8f5f2d9"
      },
      "execution_count": 29,
      "outputs": [
        {
          "output_type": "stream",
          "name": "stdout",
          "text": [
            "comparision_size_scenario1 1424\n",
            "comparision_size_scenario2 2924\n"
          ]
        },
        {
          "output_type": "stream",
          "name": "stderr",
          "text": [
            "/usr/local/lib/python3.7/dist-packages/matplotlib/cbook/__init__.py:1376: VisibleDeprecationWarning: Creating an ndarray from ragged nested sequences (which is a list-or-tuple of lists-or-tuples-or ndarrays with different lengths or shapes) is deprecated. If you meant to do this, you must specify 'dtype=object' when creating the ndarray.\n",
            "  X = np.atleast_1d(X.T if isinstance(X, np.ndarray) else np.asarray(X))\n"
          ]
        },
        {
          "output_type": "display_data",
          "data": {
            "text/plain": [
              "<Figure size 432x288 with 1 Axes>"
            ],
            "image/png": "[encoded data removed]"
          },
          "metadata": {
            "needs_background": "light"
          }
        },
        {
          "output_type": "stream",
          "name": "stdout",
          "text": [
            "time: 1min 28s (started: 2022-05-13 17:53:14 +00:00)\n"
          ]
        }
      ]
    },
    {
      "cell_type": "code",
      "source": [
        "ff_probability = 0.05   #threshold of the probability of the functional fault select 95% ->0.05 this is the inverse of probabilities 0.1 is 90%\n",
        "init_faulty_avg = int(sum(initial_pop_faults)/len(initial_pop_faults))\n",
        "path_to_files = '/content/drive/MyDrive/Data/Executions'\n",
        "\n",
        "\n",
        "plot_data = prepair_random_data_with_initial_pop(get_stat(ff_probability,path_to_files),\n",
        "                                                 Mutation,initial_population_budget,\n",
        "                                                 iteration,init_faulty_avg,population_rand)\n",
        "re_arrange = [plot_data[0],plot_data[2],plot_data[1],plot_data[3]]\n",
        "fig = plt.figure()\n",
        "ax = fig.add_axes([0, 0, 1, 1])\n",
        "bp = ax.boxplot(re_arrange)\n",
        "plt.xticks([1, 2, 3, 4], [\"Scenario1\",\"STARLA_S1\",\"Senario2\",\"STARLA_S2\"])\n",
        "plt.title('RQ1 - Comparision of number of functional faults')\n",
        "plt.show()"
      ],
      "metadata": {
        "colab": {
          "base_uri": "https://localhost:8080/",
          "height": 464
        },
        "id": "BszpccXv3_OQ",
        "outputId": "2a65cecb-a35b-4d57-9ca4-805101016d1b"
      },
      "execution_count": 30,
      "outputs": [
        {
          "output_type": "stream",
          "name": "stdout",
          "text": [
            "comparision_size_scenario1 538\n",
            "comparision_size_scenario2 2038\n"
          ]
        },
        {
          "output_type": "stream",
          "name": "stderr",
          "text": [
            "/usr/local/lib/python3.7/dist-packages/matplotlib/cbook/__init__.py:1376: VisibleDeprecationWarning: Creating an ndarray from ragged nested sequences (which is a list-or-tuple of lists-or-tuples-or ndarrays with different lengths or shapes) is deprecated. If you meant to do this, you must specify 'dtype=object' when creating the ndarray.\n",
            "  X = np.atleast_1d(X.T if isinstance(X, np.ndarray) else np.asarray(X))\n"
          ]
        },
        {
          "output_type": "display_data",
          "data": {
            "text/plain": [
              "<Figure size 432x288 with 1 Axes>"
            ],
            "image/png": "[encoded data removed]"
          },
          "metadata": {
            "needs_background": "light"
          }
        },
        {
          "output_type": "stream",
          "name": "stdout",
          "text": [
            "time: 1min 21s (started: 2022-05-13 17:54:42 +00:00)\n"
          ]
        }
      ]
    }
  ],
  "metadata": {
    "colab": {
      "collapsed_sections": [
        "DFksmUEOoWJq",
        "v4_sMe_mKvA8",
        "lgha4KKECsve",
        "uyoM00KGtWy-",
        "QOurnkoYzXmU",
        "2ny2mOSAf3g8",
        "pUebpKoHnI_U",
        "vJ5nJJQ2sBjB"
      ],
      "name": "gt final RQ1.ipynb",
      "provenance": [],
      "toc_visible": true
    },
    "kernelspec": {
      "display_name": "Python 3",
      "name": "python3"
    },
    "language_info": {
      "name": "python"
    }
  },
  "nbformat": 4,
  "nbformat_minor": 0
}